{
 "cells": [
  {
   "cell_type": "code",
   "execution_count": 1,
   "id": "302e1454",
   "metadata": {},
   "outputs": [],
   "source": [
    "# Data Science Libraries\n",
    "import pandas as pd\n",
    "import numpy as np\n",
    "import matplotlib.pyplot as plt\n",
    "import seaborn as sns\n",
    "from sklearn.model_selection import train_test_split\n",
    "from scipy.stats import pearsonr, spearmanr\n",
    "from scipy import stats\n",
    "\n",
    "# My Telco Labor\n",
    "import prepare\n",
    "\n",
    "# My zillow labor\n",
    "import wrangle\n",
    "\n",
    "# Hide Pink Boxes\n",
    "import warnings\n",
    "warnings.filterwarnings(\"ignore\")\n"
   ]
  },
  {
   "cell_type": "markdown",
   "id": "3217205d",
   "metadata": {},
   "source": [
    "# Exercise 1: Telco\n",
    "\n",
    "### Our Telco scenario continues:\n",
    "\n",
    "### As a customer analyst for Telco, you want to know who has spent the most money with the company over their lifetime. You have monthly charges and tenure, so you think you will be able to use those two attributes as features to estimate total charges. You need to do this within an average of $5.00 per customer.\n",
    "\n",
    "### In these exercises, you will run through the stages of exploration as you continue to work toward the above goal.\n",
    "\n",
    "\n",
    "\n",
    "\n"
   ]
  },
  {
   "cell_type": "markdown",
   "id": "71a45ad6",
   "metadata": {},
   "source": [
    "### 1. Make sure to perform a train, validate, test split before and use only your train dataset to explore the relationships between independent variables with other independent variables or independent variables with your target variable.\n",
    "\n"
   ]
  },
  {
   "cell_type": "code",
   "execution_count": 2,
   "id": "58a45882",
   "metadata": {},
   "outputs": [],
   "source": [
    "# Should our data be scaled for this? Probably?\n",
    "telco_train, telco_validate, telco_test = prepare.wrangle_telco()"
   ]
  },
  {
   "cell_type": "code",
   "execution_count": 3,
   "id": "111efc2e",
   "metadata": {},
   "outputs": [
    {
     "data": {
      "text/html": [
       "<div>\n",
       "<style scoped>\n",
       "    .dataframe tbody tr th:only-of-type {\n",
       "        vertical-align: middle;\n",
       "    }\n",
       "\n",
       "    .dataframe tbody tr th {\n",
       "        vertical-align: top;\n",
       "    }\n",
       "\n",
       "    .dataframe thead th {\n",
       "        text-align: right;\n",
       "    }\n",
       "</style>\n",
       "<table border=\"1\" class=\"dataframe\">\n",
       "  <thead>\n",
       "    <tr style=\"text-align: right;\">\n",
       "      <th></th>\n",
       "      <th>customer_id</th>\n",
       "      <th>monthly_charges</th>\n",
       "      <th>tenure</th>\n",
       "      <th>total_charges</th>\n",
       "    </tr>\n",
       "  </thead>\n",
       "  <tbody>\n",
       "    <tr>\n",
       "      <th>103</th>\n",
       "      <td>0604-THJFP</td>\n",
       "      <td>75.95</td>\n",
       "      <td>59</td>\n",
       "      <td>4542.35</td>\n",
       "    </tr>\n",
       "    <tr>\n",
       "      <th>1334</th>\n",
       "      <td>7941-RCJOW</td>\n",
       "      <td>19.55</td>\n",
       "      <td>65</td>\n",
       "      <td>1218.65</td>\n",
       "    </tr>\n",
       "    <tr>\n",
       "      <th>1275</th>\n",
       "      <td>7596-IIWYC</td>\n",
       "      <td>20.25</td>\n",
       "      <td>27</td>\n",
       "      <td>538.20</td>\n",
       "    </tr>\n",
       "    <tr>\n",
       "      <th>1073</th>\n",
       "      <td>6445-TNRXS</td>\n",
       "      <td>114.70</td>\n",
       "      <td>68</td>\n",
       "      <td>7849.85</td>\n",
       "    </tr>\n",
       "    <tr>\n",
       "      <th>1320</th>\n",
       "      <td>7799-LGRDP</td>\n",
       "      <td>25.70</td>\n",
       "      <td>43</td>\n",
       "      <td>1188.20</td>\n",
       "    </tr>\n",
       "  </tbody>\n",
       "</table>\n",
       "</div>"
      ],
      "text/plain": [
       "     customer_id  monthly_charges  tenure  total_charges\n",
       "103   0604-THJFP            75.95      59        4542.35\n",
       "1334  7941-RCJOW            19.55      65        1218.65\n",
       "1275  7596-IIWYC            20.25      27         538.20\n",
       "1073  6445-TNRXS           114.70      68        7849.85\n",
       "1320  7799-LGRDP            25.70      43        1188.20"
      ]
     },
     "execution_count": 3,
     "metadata": {},
     "output_type": "execute_result"
    }
   ],
   "source": [
    "telco_train.head()"
   ]
  },
  {
   "cell_type": "code",
   "execution_count": 4,
   "id": "5a2e1520",
   "metadata": {},
   "outputs": [
    {
     "data": {
      "text/html": [
       "<div>\n",
       "<style scoped>\n",
       "    .dataframe tbody tr th:only-of-type {\n",
       "        vertical-align: middle;\n",
       "    }\n",
       "\n",
       "    .dataframe tbody tr th {\n",
       "        vertical-align: top;\n",
       "    }\n",
       "\n",
       "    .dataframe thead th {\n",
       "        text-align: right;\n",
       "    }\n",
       "</style>\n",
       "<table border=\"1\" class=\"dataframe\">\n",
       "  <thead>\n",
       "    <tr style=\"text-align: right;\">\n",
       "      <th></th>\n",
       "      <th>monthly_charges</th>\n",
       "      <th>tenure</th>\n",
       "      <th>total_charges</th>\n",
       "    </tr>\n",
       "  </thead>\n",
       "  <tbody>\n",
       "    <tr>\n",
       "      <th>monthly_charges</th>\n",
       "      <td>1.000000</td>\n",
       "      <td>0.403977</td>\n",
       "      <td>0.948194</td>\n",
       "    </tr>\n",
       "    <tr>\n",
       "      <th>tenure</th>\n",
       "      <td>0.403977</td>\n",
       "      <td>1.000000</td>\n",
       "      <td>0.618552</td>\n",
       "    </tr>\n",
       "    <tr>\n",
       "      <th>total_charges</th>\n",
       "      <td>0.948194</td>\n",
       "      <td>0.618552</td>\n",
       "      <td>1.000000</td>\n",
       "    </tr>\n",
       "  </tbody>\n",
       "</table>\n",
       "</div>"
      ],
      "text/plain": [
       "                 monthly_charges    tenure  total_charges\n",
       "monthly_charges         1.000000  0.403977       0.948194\n",
       "tenure                  0.403977  1.000000       0.618552\n",
       "total_charges           0.948194  0.618552       1.000000"
      ]
     },
     "execution_count": 4,
     "metadata": {},
     "output_type": "execute_result"
    }
   ],
   "source": [
    "# Looking at correlations \n",
    "telco_train.corr()"
   ]
  },
  {
   "cell_type": "markdown",
   "id": "ba73357f",
   "metadata": {},
   "source": [
    "### 2. Write a function named plot_variable_pairs that accepts a dataframe as input and plots all of the pairwise relationships along with the regression line for each pair.\n",
    "\n"
   ]
  },
  {
   "cell_type": "code",
   "execution_count": 5,
   "id": "88c88a24",
   "metadata": {},
   "outputs": [],
   "source": [
    "def plot_variable_pairs(df):\n",
    "    sns.heatmap(telco_train.corr(), cmap=\"Blues\")\n",
    "    plt.title(\"Heatmap\")\n",
    "    plt.show();\n",
    "    sns.pairplot(df, kind='reg', corner=True, plot_kws={'line_kws':{'color':'red'}})\n",
    "    plt.suptitle(\"Pairplot\")\n",
    "    plt.show();\n"
   ]
  },
  {
   "cell_type": "code",
   "execution_count": 6,
   "id": "de28ac38",
   "metadata": {},
   "outputs": [
    {
     "data": {
      "image/png": "[encoded data removed]",
      "text/plain": [
       "<Figure size 432x288 with 2 Axes>"
      ]
     },
     "metadata": {
      "needs_background": "light"
     },
     "output_type": "display_data"
    },
    {
     "data": {
      "image/png": "[encoded data removed]",
      "text/plain": [
       "<Figure size 540x540 with 9 Axes>"
      ]
     },
     "metadata": {
      "needs_background": "light"
     },
     "output_type": "display_data"
    }
   ],
   "source": [
    " plot_variable_pairs(telco_train)"
   ]
  },
  {
   "cell_type": "markdown",
   "id": "1d88c019",
   "metadata": {},
   "source": [
    "### 3. Write a function named months_to_years that accepts your telco churn dataframe and returns a dataframe with a new feature tenure_years, in complete years as a customer.\n",
    "\n"
   ]
  },
  {
   "cell_type": "code",
   "execution_count": 7,
   "id": "0dc9c966",
   "metadata": {},
   "outputs": [],
   "source": [
    "def months_to_years(telco):\n",
    "    telco[\"tenure_years\"] = (round(telco.tenure/12)).astype(int)\n",
    "    return telco"
   ]
  },
  {
   "cell_type": "code",
   "execution_count": 8,
   "id": "99b2a131",
   "metadata": {},
   "outputs": [],
   "source": [
    "# I know this works\n",
    "\n",
    "#telco_train[\"tenure_years\"] = (round(telco_train.tenure/12)).astype(int)\n",
    "#telco_train.head()"
   ]
  },
  {
   "cell_type": "code",
   "execution_count": 10,
   "id": "5e486693",
   "metadata": {},
   "outputs": [
    {
     "data": {
      "text/html": [
       "<div>\n",
       "<style scoped>\n",
       "    .dataframe tbody tr th:only-of-type {\n",
       "        vertical-align: middle;\n",
       "    }\n",
       "\n",
       "    .dataframe tbody tr th {\n",
       "        vertical-align: top;\n",
       "    }\n",
       "\n",
       "    .dataframe thead th {\n",
       "        text-align: right;\n",
       "    }\n",
       "</style>\n",
       "<table border=\"1\" class=\"dataframe\">\n",
       "  <thead>\n",
       "    <tr style=\"text-align: right;\">\n",
       "      <th></th>\n",
       "      <th>customer_id</th>\n",
       "      <th>monthly_charges</th>\n",
       "      <th>tenure</th>\n",
       "      <th>total_charges</th>\n",
       "      <th>tenure_years</th>\n",
       "    </tr>\n",
       "  </thead>\n",
       "  <tbody>\n",
       "    <tr>\n",
       "      <th>103</th>\n",
       "      <td>0604-THJFP</td>\n",
       "      <td>75.95</td>\n",
       "      <td>59</td>\n",
       "      <td>4542.35</td>\n",
       "      <td>5</td>\n",
       "    </tr>\n",
       "    <tr>\n",
       "      <th>1334</th>\n",
       "      <td>7941-RCJOW</td>\n",
       "      <td>19.55</td>\n",
       "      <td>65</td>\n",
       "      <td>1218.65</td>\n",
       "      <td>5</td>\n",
       "    </tr>\n",
       "    <tr>\n",
       "      <th>1275</th>\n",
       "      <td>7596-IIWYC</td>\n",
       "      <td>20.25</td>\n",
       "      <td>27</td>\n",
       "      <td>538.20</td>\n",
       "      <td>2</td>\n",
       "    </tr>\n",
       "    <tr>\n",
       "      <th>1073</th>\n",
       "      <td>6445-TNRXS</td>\n",
       "      <td>114.70</td>\n",
       "      <td>68</td>\n",
       "      <td>7849.85</td>\n",
       "      <td>6</td>\n",
       "    </tr>\n",
       "    <tr>\n",
       "      <th>1320</th>\n",
       "      <td>7799-LGRDP</td>\n",
       "      <td>25.70</td>\n",
       "      <td>43</td>\n",
       "      <td>1188.20</td>\n",
       "      <td>4</td>\n",
       "    </tr>\n",
       "  </tbody>\n",
       "</table>\n",
       "</div>"
      ],
      "text/plain": [
       "     customer_id  monthly_charges  tenure  total_charges  tenure_years\n",
       "103   0604-THJFP            75.95      59        4542.35             5\n",
       "1334  7941-RCJOW            19.55      65        1218.65             5\n",
       "1275  7596-IIWYC            20.25      27         538.20             2\n",
       "1073  6445-TNRXS           114.70      68        7849.85             6\n",
       "1320  7799-LGRDP            25.70      43        1188.20             4"
      ]
     },
     "execution_count": 10,
     "metadata": {},
     "output_type": "execute_result"
    }
   ],
   "source": [
    "telco_train = months_to_years(telco_train)\n",
    "telco_train.head()"
   ]
  },
  {
   "cell_type": "markdown",
   "id": "6cda183e",
   "metadata": {},
   "source": [
    "### 4. Write a function named plot_categorical_and_continuous_vars that accepts your dataframe and the name of the columns that hold the continuous and categorical features and outputs 3 different plots for visualizing a categorical variable and a continuous variable.\n",
    "\n"
   ]
  },
  {
   "cell_type": "code",
   "execution_count": null,
   "id": "57448caf",
   "metadata": {},
   "outputs": [],
   "source": [
    "def plot_categorical_and_continuous_vars(df, categorical, continuous):\n",
    "    "
   ]
  },
  {
   "cell_type": "code",
   "execution_count": null,
   "id": "5e75d9b4",
   "metadata": {},
   "outputs": [],
   "source": [
    "telco\n",
    "\n",
    "for con in continuous:\n",
    "    for cat in categorical:\n",
    "        plt.figur(figsize = (20,10))\n",
    "        plt.boxplot(data = telco_train, x= df[cat] , y= df[con])"
   ]
  },
  {
   "cell_type": "markdown",
   "id": "284934be",
   "metadata": {},
   "source": [
    "### 5. Save the functions you have written to create visualizations in your explore.py file. Rewrite your notebook code so that you are using the functions imported from this file.\n",
    "\n"
   ]
  },
  {
   "cell_type": "code",
   "execution_count": null,
   "id": "4be00ae4",
   "metadata": {},
   "outputs": [],
   "source": []
  },
  {
   "cell_type": "markdown",
   "id": "c239e80f",
   "metadata": {},
   "source": [
    "### 6. Explore your dataset with any other visualizations you think will be helpful.\n",
    "\n"
   ]
  },
  {
   "cell_type": "code",
   "execution_count": null,
   "id": "a5bfab78",
   "metadata": {},
   "outputs": [],
   "source": []
  },
  {
   "cell_type": "markdown",
   "id": "43672a2d",
   "metadata": {},
   "source": [
    "### 7. In a seperate notebook, use the functions you have developed in this exercise with the mall_customers dataset in the Codeup database server. You will need to write a sql query to acquire your data. Make spending_score your target variable."
   ]
  },
  {
   "cell_type": "code",
   "execution_count": null,
   "id": "4ab448fe",
   "metadata": {},
   "outputs": [],
   "source": []
  },
  {
   "cell_type": "markdown",
   "id": "8907969e",
   "metadata": {},
   "source": [
    "# Exercise 2: Zillow"
   ]
  },
  {
   "cell_type": "code",
   "execution_count": null,
   "id": "3275b1f4",
   "metadata": {},
   "outputs": [],
   "source": []
  },
  {
   "cell_type": "markdown",
   "id": "76c31173",
   "metadata": {},
   "source": [
    "## - What is the target variable for this upcoming project?\n",
    "## - According to curriculum: \"We want to be able to predict the values of single unit properties...\"\n",
    "## - Adam Clarified that the Target Variable is `taxvaluedollarcnt` or in my case `tax_value`\n"
   ]
  },
  {
   "cell_type": "code",
   "execution_count": null,
   "id": "f513ee38",
   "metadata": {},
   "outputs": [],
   "source": []
  }
 ],
 "metadata": {
  "kernelspec": {
   "display_name": "Python 3",
   "language": "python",
   "name": "python3"
  },
  "language_info": {
   "codemirror_mode": {
    "name": "ipython",
    "version": 3
   },
   "file_extension": ".py",
   "mimetype": "text/x-python",
   "name": "python",
   "nbconvert_exporter": "python",
   "pygments_lexer": "ipython3",
   "version": "3.8.8"
  }
 },
 "nbformat": 4,
 "nbformat_minor": 5
}
