{
 "cells": [
  {
   "cell_type": "code",
   "execution_count": 1,
   "id": "7297b54c",
   "metadata": {},
   "outputs": [],
   "source": [
    "# Data Science Libraries\n",
    "import matplotlib.pyplot as plt\n",
    "import sklearn.preprocessing\n",
    "from sklearn.model_selection import train_test_split\n",
    "import numpy as np\n",
    "import pandas as pd\n",
    "import seaborn as sns\n",
    "\n",
    "# Retrieve Ravinder's Telco wrangle\n",
    "import prepare\n",
    "\n",
    "# Retrieve my zillow data\n",
    "import wrangle\n",
    "\n",
    "# Remove Pink Boxes from Screen\n",
    "import warnings\n",
    "warnings.filterwarnings(\"ignore\")"
   ]
  },
  {
   "cell_type": "markdown",
   "id": "8f257d0b",
   "metadata": {},
   "source": [
    "### 1. Apply the scalers we talked about in this lesson to your data and visualize the results for the unscaled and scaled distribution ."
   ]
  },
  {
   "cell_type": "code",
   "execution_count": 2,
   "id": "af0f4895",
   "metadata": {},
   "outputs": [
    {
     "data": {
      "text/html": [
       "<div>\n",
       "<style scoped>\n",
       "    .dataframe tbody tr th:only-of-type {\n",
       "        vertical-align: middle;\n",
       "    }\n",
       "\n",
       "    .dataframe tbody tr th {\n",
       "        vertical-align: top;\n",
       "    }\n",
       "\n",
       "    .dataframe thead th {\n",
       "        text-align: right;\n",
       "    }\n",
       "</style>\n",
       "<table border=\"1\" class=\"dataframe\">\n",
       "  <thead>\n",
       "    <tr style=\"text-align: right;\">\n",
       "      <th></th>\n",
       "      <th>customer_id</th>\n",
       "      <th>monthly_charges</th>\n",
       "      <th>tenure</th>\n",
       "      <th>total_charges</th>\n",
       "    </tr>\n",
       "  </thead>\n",
       "  <tbody>\n",
       "    <tr>\n",
       "      <th>103</th>\n",
       "      <td>0604-THJFP</td>\n",
       "      <td>75.95</td>\n",
       "      <td>59</td>\n",
       "      <td>4542.35</td>\n",
       "    </tr>\n",
       "    <tr>\n",
       "      <th>1334</th>\n",
       "      <td>7941-RCJOW</td>\n",
       "      <td>19.55</td>\n",
       "      <td>65</td>\n",
       "      <td>1218.65</td>\n",
       "    </tr>\n",
       "    <tr>\n",
       "      <th>1275</th>\n",
       "      <td>7596-IIWYC</td>\n",
       "      <td>20.25</td>\n",
       "      <td>27</td>\n",
       "      <td>538.20</td>\n",
       "    </tr>\n",
       "    <tr>\n",
       "      <th>1073</th>\n",
       "      <td>6445-TNRXS</td>\n",
       "      <td>114.70</td>\n",
       "      <td>68</td>\n",
       "      <td>7849.85</td>\n",
       "    </tr>\n",
       "    <tr>\n",
       "      <th>1320</th>\n",
       "      <td>7799-LGRDP</td>\n",
       "      <td>25.70</td>\n",
       "      <td>43</td>\n",
       "      <td>1188.20</td>\n",
       "    </tr>\n",
       "  </tbody>\n",
       "</table>\n",
       "</div>"
      ],
      "text/plain": [
       "     customer_id  monthly_charges  tenure  total_charges\n",
       "103   0604-THJFP            75.95      59        4542.35\n",
       "1334  7941-RCJOW            19.55      65        1218.65\n",
       "1275  7596-IIWYC            20.25      27         538.20\n",
       "1073  6445-TNRXS           114.70      68        7849.85\n",
       "1320  7799-LGRDP            25.70      43        1188.20"
      ]
     },
     "execution_count": 2,
     "metadata": {},
     "output_type": "execute_result"
    }
   ],
   "source": [
    "# First I have to split the data. The scaling has to be fitted, which means I need my Train dataset\n",
    "# Note: When scaling, fit on train and then apply to validate and test. \n",
    "# I will not be applying scaling to validate and test for these exercises since we won't see them, and to save time\n",
    "train , validate, test = prepare.wrangle_telco()\n",
    "train.head()"
   ]
  },
  {
   "cell_type": "code",
   "execution_count": 3,
   "id": "31c232c7",
   "metadata": {},
   "outputs": [
    {
     "data": {
      "image/png": "[encoded data removed]",
      "text/plain": [
       "<Figure size 432x288 with 1 Axes>"
      ]
     },
     "metadata": {
      "needs_background": "light"
     },
     "output_type": "display_data"
    },
    {
     "data": {
      "image/png": "[encoded data removed]",
      "text/plain": [
       "<Figure size 432x288 with 1 Axes>"
      ]
     },
     "metadata": {
      "needs_background": "light"
     },
     "output_type": "display_data"
    },
    {
     "data": {
      "image/png": "[encoded data removed]",
      "text/plain": [
       "<Figure size 432x288 with 1 Axes>"
      ]
     },
     "metadata": {
      "needs_background": "light"
     },
     "output_type": "display_data"
    }
   ],
   "source": [
    "# Let's see what the distribution looks like before I start\n",
    "columns = train[['monthly_charges','tenure','total_charges']]\n",
    "for x in columns: \n",
    "    train[ x ].plot.hist(title= x)\n",
    "    plt.show();"
   ]
  },
  {
   "cell_type": "code",
   "execution_count": 4,
   "id": "30ac73af",
   "metadata": {},
   "outputs": [],
   "source": [
    "# I'm going to pre-define the columns I want to scale\n",
    "columns_to_scale = ['monthly_charges','tenure','total_charges']"
   ]
  },
  {
   "cell_type": "markdown",
   "id": "8526448a",
   "metadata": {},
   "source": [
    "### Min-Max Scaler\n"
   ]
  },
  {
   "cell_type": "code",
   "execution_count": 5,
   "id": "00b33970",
   "metadata": {},
   "outputs": [
    {
     "data": {
      "text/html": [
       "<div>\n",
       "<style scoped>\n",
       "    .dataframe tbody tr th:only-of-type {\n",
       "        vertical-align: middle;\n",
       "    }\n",
       "\n",
       "    .dataframe tbody tr th {\n",
       "        vertical-align: top;\n",
       "    }\n",
       "\n",
       "    .dataframe thead th {\n",
       "        text-align: right;\n",
       "    }\n",
       "</style>\n",
       "<table border=\"1\" class=\"dataframe\">\n",
       "  <thead>\n",
       "    <tr style=\"text-align: right;\">\n",
       "      <th></th>\n",
       "      <th>customer_id</th>\n",
       "      <th>monthly_charges</th>\n",
       "      <th>tenure</th>\n",
       "      <th>total_charges</th>\n",
       "      <th>scaled_monthly_charges</th>\n",
       "      <th>scaled_tenure</th>\n",
       "      <th>scaled_total_charges</th>\n",
       "    </tr>\n",
       "  </thead>\n",
       "  <tbody>\n",
       "    <tr>\n",
       "      <th>103</th>\n",
       "      <td>0604-THJFP</td>\n",
       "      <td>75.95</td>\n",
       "      <td>59</td>\n",
       "      <td>4542.35</td>\n",
       "      <td>0.574351</td>\n",
       "      <td>0.814286</td>\n",
       "      <td>0.521037</td>\n",
       "    </tr>\n",
       "    <tr>\n",
       "      <th>1334</th>\n",
       "      <td>7941-RCJOW</td>\n",
       "      <td>19.55</td>\n",
       "      <td>65</td>\n",
       "      <td>1218.65</td>\n",
       "      <td>0.011477</td>\n",
       "      <td>0.900000</td>\n",
       "      <td>0.135372</td>\n",
       "    </tr>\n",
       "    <tr>\n",
       "      <th>1275</th>\n",
       "      <td>7596-IIWYC</td>\n",
       "      <td>20.25</td>\n",
       "      <td>27</td>\n",
       "      <td>538.20</td>\n",
       "      <td>0.018463</td>\n",
       "      <td>0.357143</td>\n",
       "      <td>0.056416</td>\n",
       "    </tr>\n",
       "    <tr>\n",
       "      <th>1073</th>\n",
       "      <td>6445-TNRXS</td>\n",
       "      <td>114.70</td>\n",
       "      <td>68</td>\n",
       "      <td>7849.85</td>\n",
       "      <td>0.961078</td>\n",
       "      <td>0.942857</td>\n",
       "      <td>0.904822</td>\n",
       "    </tr>\n",
       "    <tr>\n",
       "      <th>1320</th>\n",
       "      <td>7799-LGRDP</td>\n",
       "      <td>25.70</td>\n",
       "      <td>43</td>\n",
       "      <td>1188.20</td>\n",
       "      <td>0.072854</td>\n",
       "      <td>0.585714</td>\n",
       "      <td>0.131839</td>\n",
       "    </tr>\n",
       "  </tbody>\n",
       "</table>\n",
       "</div>"
      ],
      "text/plain": [
       "     customer_id  monthly_charges  tenure  total_charges  \\\n",
       "103   0604-THJFP            75.95      59        4542.35   \n",
       "1334  7941-RCJOW            19.55      65        1218.65   \n",
       "1275  7596-IIWYC            20.25      27         538.20   \n",
       "1073  6445-TNRXS           114.70      68        7849.85   \n",
       "1320  7799-LGRDP            25.70      43        1188.20   \n",
       "\n",
       "      scaled_monthly_charges  scaled_tenure  scaled_total_charges  \n",
       "103                 0.574351       0.814286              0.521037  \n",
       "1334                0.011477       0.900000              0.135372  \n",
       "1275                0.018463       0.357143              0.056416  \n",
       "1073                0.961078       0.942857              0.904822  \n",
       "1320                0.072854       0.585714              0.131839  "
      ]
     },
     "execution_count": 5,
     "metadata": {},
     "output_type": "execute_result"
    }
   ],
   "source": [
    "# 1. Create the object\n",
    "scaler = sklearn.preprocessing.MinMaxScaler()\n",
    "\n",
    "# 2. Fit the object (learn the min and max value)\n",
    "scaler.fit(train[columns_to_scale])\n",
    "\n",
    "# 3. Use the object (use the min, max to do the transformation)\n",
    "scaled_columns = scaler.transform(train[columns_to_scale])\n",
    "\n",
    "# 4. Create a dataframe from the scaled values\n",
    "pd.DataFrame(scaled_columns, index = train.index,\n",
    "             columns = ['scaled_monthly_charges', 'scaled_tenure', 'scaled_total_charges'])\n",
    "\n",
    "# 5. Assign the scaled values as new columns in the train\n",
    "train[['scaled_monthly_charges', 'scaled_tenure', 'scaled_total_charges']] = scaled_columns\n",
    "\n",
    "train.head()"
   ]
  },
  {
   "cell_type": "code",
   "execution_count": 6,
   "id": "0236e659",
   "metadata": {},
   "outputs": [],
   "source": [
    "# Now to visualize the un-scaled and scaled distributions\n",
    "# Notice that the distributions remain the same, but the scale of the x axis has changed!\n",
    "\n",
    "def telco_visualize(scaler):\n",
    "    columns = ['monthly_charges','tenure','total_charges']\n",
    "\n",
    "    for x in columns:\n",
    "        plt.figure(figsize=(13, 6))\n",
    "\n",
    "        # subplot 1\n",
    "        plt.subplot(121)\n",
    "        train[x].plot.hist(title='Original ' + x)\n",
    "\n",
    "        #subplot 2\n",
    "        plt.subplot(122)\n",
    "        train['scaled_'+x].plot.hist(title= x+' '+scaler)\n",
    "\n",
    "        plt.show();"
   ]
  },
  {
   "cell_type": "code",
   "execution_count": 7,
   "id": "61498b95",
   "metadata": {},
   "outputs": [
    {
     "data": {
      "image/png": "[encoded data removed]",
      "text/plain": [
       "<Figure size 936x432 with 2 Axes>"
      ]
     },
     "metadata": {
      "needs_background": "light"
     },
     "output_type": "display_data"
    },
    {
     "data": {
      "image/png": "[encoded data removed]",
      "text/plain": [
       "<Figure size 936x432 with 2 Axes>"
      ]
     },
     "metadata": {
      "needs_background": "light"
     },
     "output_type": "display_data"
    },
    {
     "data": {
      "image/png": "[encoded data removed]",
      "text/plain": [
       "<Figure size 936x432 with 2 Axes>"
      ]
     },
     "metadata": {
      "needs_background": "light"
     },
     "output_type": "display_data"
    }
   ],
   "source": [
    "telco_visualize('Min-Max Scaler')"
   ]
  },
  {
   "cell_type": "markdown",
   "id": "00383d2f",
   "metadata": {},
   "source": [
    "### Standard Scaler"
   ]
  },
  {
   "cell_type": "code",
   "execution_count": 8,
   "id": "afc505af",
   "metadata": {},
   "outputs": [
    {
     "data": {
      "text/html": [
       "<div>\n",
       "<style scoped>\n",
       "    .dataframe tbody tr th:only-of-type {\n",
       "        vertical-align: middle;\n",
       "    }\n",
       "\n",
       "    .dataframe tbody tr th {\n",
       "        vertical-align: top;\n",
       "    }\n",
       "\n",
       "    .dataframe thead th {\n",
       "        text-align: right;\n",
       "    }\n",
       "</style>\n",
       "<table border=\"1\" class=\"dataframe\">\n",
       "  <thead>\n",
       "    <tr style=\"text-align: right;\">\n",
       "      <th></th>\n",
       "      <th>customer_id</th>\n",
       "      <th>monthly_charges</th>\n",
       "      <th>tenure</th>\n",
       "      <th>total_charges</th>\n",
       "      <th>scaled_monthly_charges</th>\n",
       "      <th>scaled_tenure</th>\n",
       "      <th>scaled_total_charges</th>\n",
       "    </tr>\n",
       "  </thead>\n",
       "  <tbody>\n",
       "    <tr>\n",
       "      <th>103</th>\n",
       "      <td>0604-THJFP</td>\n",
       "      <td>75.95</td>\n",
       "      <td>59</td>\n",
       "      <td>4542.35</td>\n",
       "      <td>0.451812</td>\n",
       "      <td>0.102676</td>\n",
       "      <td>0.332417</td>\n",
       "    </tr>\n",
       "    <tr>\n",
       "      <th>1334</th>\n",
       "      <td>7941-RCJOW</td>\n",
       "      <td>19.55</td>\n",
       "      <td>65</td>\n",
       "      <td>1218.65</td>\n",
       "      <td>-1.183030</td>\n",
       "      <td>0.442408</td>\n",
       "      <td>-0.978209</td>\n",
       "    </tr>\n",
       "    <tr>\n",
       "      <th>1275</th>\n",
       "      <td>7596-IIWYC</td>\n",
       "      <td>20.25</td>\n",
       "      <td>27</td>\n",
       "      <td>538.20</td>\n",
       "      <td>-1.162740</td>\n",
       "      <td>-1.709228</td>\n",
       "      <td>-1.246529</td>\n",
       "    </tr>\n",
       "    <tr>\n",
       "      <th>1073</th>\n",
       "      <td>6445-TNRXS</td>\n",
       "      <td>114.70</td>\n",
       "      <td>68</td>\n",
       "      <td>7849.85</td>\n",
       "      <td>1.575042</td>\n",
       "      <td>0.612274</td>\n",
       "      <td>1.636654</td>\n",
       "    </tr>\n",
       "    <tr>\n",
       "      <th>1320</th>\n",
       "      <td>7799-LGRDP</td>\n",
       "      <td>25.70</td>\n",
       "      <td>43</td>\n",
       "      <td>1188.20</td>\n",
       "      <td>-1.004763</td>\n",
       "      <td>-0.803276</td>\n",
       "      <td>-0.990216</td>\n",
       "    </tr>\n",
       "  </tbody>\n",
       "</table>\n",
       "</div>"
      ],
      "text/plain": [
       "     customer_id  monthly_charges  tenure  total_charges  \\\n",
       "103   0604-THJFP            75.95      59        4542.35   \n",
       "1334  7941-RCJOW            19.55      65        1218.65   \n",
       "1275  7596-IIWYC            20.25      27         538.20   \n",
       "1073  6445-TNRXS           114.70      68        7849.85   \n",
       "1320  7799-LGRDP            25.70      43        1188.20   \n",
       "\n",
       "      scaled_monthly_charges  scaled_tenure  scaled_total_charges  \n",
       "103                 0.451812       0.102676              0.332417  \n",
       "1334               -1.183030       0.442408             -0.978209  \n",
       "1275               -1.162740      -1.709228             -1.246529  \n",
       "1073                1.575042       0.612274              1.636654  \n",
       "1320               -1.004763      -0.803276             -0.990216  "
      ]
     },
     "execution_count": 8,
     "metadata": {},
     "output_type": "execute_result"
    }
   ],
   "source": [
    "# 1. Create the object\n",
    "scaler = sklearn.preprocessing.StandardScaler()\n",
    "\n",
    "# 2. Fit the object\n",
    "scaler.fit(train[columns_to_scale])\n",
    "\n",
    "# 3. Use the object (use the min, max to do the transformation)\n",
    "scaled_columns = scaler.transform(train[columns_to_scale])\n",
    "\n",
    "# 4. Create a dataframe from the scaled values\n",
    "pd.DataFrame(scaled_columns, index = train.index,\n",
    "             columns = ['scaled_monthly_charges', 'scaled_tenure', 'scaled_total_charges'])\n",
    "\n",
    "# 5. Assign the scaled values as new columns in the train\n",
    "train[['scaled_monthly_charges', 'scaled_tenure', 'scaled_total_charges']] = scaled_columns\n",
    "\n",
    "train.head()\n"
   ]
  },
  {
   "cell_type": "code",
   "execution_count": 9,
   "id": "b923edcb",
   "metadata": {},
   "outputs": [
    {
     "data": {
      "image/png": "[encoded data removed]",
      "text/plain": [
       "<Figure size 936x432 with 2 Axes>"
      ]
     },
     "metadata": {
      "needs_background": "light"
     },
     "output_type": "display_data"
    },
    {
     "data": {
      "image/png": "[encoded data removed]",
      "text/plain": [
       "<Figure size 936x432 with 2 Axes>"
      ]
     },
     "metadata": {
      "needs_background": "light"
     },
     "output_type": "display_data"
    },
    {
     "data": {
      "image/png": "[encoded data removed]",
      "text/plain": [
       "<Figure size 936x432 with 2 Axes>"
      ]
     },
     "metadata": {
      "needs_background": "light"
     },
     "output_type": "display_data"
    }
   ],
   "source": [
    "telco_visualize('Standard Scaler')"
   ]
  },
  {
   "cell_type": "markdown",
   "id": "50817fee",
   "metadata": {},
   "source": [
    "### Robust Scaler"
   ]
  },
  {
   "cell_type": "code",
   "execution_count": 10,
   "id": "b49dc408",
   "metadata": {},
   "outputs": [
    {
     "data": {
      "text/html": [
       "<div>\n",
       "<style scoped>\n",
       "    .dataframe tbody tr th:only-of-type {\n",
       "        vertical-align: middle;\n",
       "    }\n",
       "\n",
       "    .dataframe tbody tr th {\n",
       "        vertical-align: top;\n",
       "    }\n",
       "\n",
       "    .dataframe thead th {\n",
       "        text-align: right;\n",
       "    }\n",
       "</style>\n",
       "<table border=\"1\" class=\"dataframe\">\n",
       "  <thead>\n",
       "    <tr style=\"text-align: right;\">\n",
       "      <th></th>\n",
       "      <th>customer_id</th>\n",
       "      <th>monthly_charges</th>\n",
       "      <th>tenure</th>\n",
       "      <th>total_charges</th>\n",
       "      <th>scaled_monthly_charges</th>\n",
       "      <th>scaled_tenure</th>\n",
       "      <th>scaled_total_charges</th>\n",
       "    </tr>\n",
       "  </thead>\n",
       "  <tbody>\n",
       "    <tr>\n",
       "      <th>103</th>\n",
       "      <td>0604-THJFP</td>\n",
       "      <td>75.95</td>\n",
       "      <td>59</td>\n",
       "      <td>4542.35</td>\n",
       "      <td>0.190080</td>\n",
       "      <td>-0.227273</td>\n",
       "      <td>0.181127</td>\n",
       "    </tr>\n",
       "    <tr>\n",
       "      <th>1334</th>\n",
       "      <td>7941-RCJOW</td>\n",
       "      <td>19.55</td>\n",
       "      <td>65</td>\n",
       "      <td>1218.65</td>\n",
       "      <td>-0.664142</td>\n",
       "      <td>0.045455</td>\n",
       "      <td>-0.528876</td>\n",
       "    </tr>\n",
       "    <tr>\n",
       "      <th>1275</th>\n",
       "      <td>7596-IIWYC</td>\n",
       "      <td>20.25</td>\n",
       "      <td>27</td>\n",
       "      <td>538.20</td>\n",
       "      <td>-0.653540</td>\n",
       "      <td>-1.681818</td>\n",
       "      <td>-0.674232</td>\n",
       "    </tr>\n",
       "    <tr>\n",
       "      <th>1073</th>\n",
       "      <td>6445-TNRXS</td>\n",
       "      <td>114.70</td>\n",
       "      <td>68</td>\n",
       "      <td>7849.85</td>\n",
       "      <td>0.776978</td>\n",
       "      <td>0.181818</td>\n",
       "      <td>0.887669</td>\n",
       "    </tr>\n",
       "    <tr>\n",
       "      <th>1320</th>\n",
       "      <td>7799-LGRDP</td>\n",
       "      <td>25.70</td>\n",
       "      <td>43</td>\n",
       "      <td>1188.20</td>\n",
       "      <td>-0.570996</td>\n",
       "      <td>-0.954545</td>\n",
       "      <td>-0.535381</td>\n",
       "    </tr>\n",
       "  </tbody>\n",
       "</table>\n",
       "</div>"
      ],
      "text/plain": [
       "     customer_id  monthly_charges  tenure  total_charges  \\\n",
       "103   0604-THJFP            75.95      59        4542.35   \n",
       "1334  7941-RCJOW            19.55      65        1218.65   \n",
       "1275  7596-IIWYC            20.25      27         538.20   \n",
       "1073  6445-TNRXS           114.70      68        7849.85   \n",
       "1320  7799-LGRDP            25.70      43        1188.20   \n",
       "\n",
       "      scaled_monthly_charges  scaled_tenure  scaled_total_charges  \n",
       "103                 0.190080      -0.227273              0.181127  \n",
       "1334               -0.664142       0.045455             -0.528876  \n",
       "1275               -0.653540      -1.681818             -0.674232  \n",
       "1073                0.776978       0.181818              0.887669  \n",
       "1320               -0.570996      -0.954545             -0.535381  "
      ]
     },
     "execution_count": 10,
     "metadata": {},
     "output_type": "execute_result"
    }
   ],
   "source": [
    "# 1. Create the object\n",
    "scaler = sklearn.preprocessing.RobustScaler()\n",
    "\n",
    "# 2. Fit the object\n",
    "scaler.fit(train[columns_to_scale])\n",
    "\n",
    "# 3. Use the object (use the min, max to do the transformation)\n",
    "scaled_columns = scaler.transform(train[columns_to_scale])\n",
    "\n",
    "# 4. Create a dataframe from the scaled values\n",
    "pd.DataFrame(scaled_columns, index = train.index,\n",
    "             columns = ['scaled_monthly_charges', 'scaled_tenure', 'scaled_total_charges'])\n",
    "\n",
    "# 5. Assign the scaled values as new columns in the train\n",
    "train[['scaled_monthly_charges', 'scaled_tenure', 'scaled_total_charges']] = scaled_columns\n",
    "\n",
    "train.head()"
   ]
  },
  {
   "cell_type": "code",
   "execution_count": 11,
   "id": "2c2a9beb",
   "metadata": {},
   "outputs": [
    {
     "data": {
      "image/png": "[encoded data removed]",
      "text/plain": [
       "<Figure size 936x432 with 2 Axes>"
      ]
     },
     "metadata": {
      "needs_background": "light"
     },
     "output_type": "display_data"
    },
    {
     "data": {
      "image/png": "[encoded data removed]",
      "text/plain": [
       "<Figure size 936x432 with 2 Axes>"
      ]
     },
     "metadata": {
      "needs_background": "light"
     },
     "output_type": "display_data"
    },
    {
     "data": {
      "image/png": "[encoded data removed]",
      "text/plain": [
       "<Figure size 936x432 with 2 Axes>"
      ]
     },
     "metadata": {
      "needs_background": "light"
     },
     "output_type": "display_data"
    }
   ],
   "source": [
    "telco_visualize('Robust Scaler')"
   ]
  },
  {
   "cell_type": "markdown",
   "id": "639d0e83",
   "metadata": {},
   "source": [
    "### Non-linear Scaler"
   ]
  },
  {
   "cell_type": "code",
   "execution_count": 12,
   "id": "a060a1d8",
   "metadata": {},
   "outputs": [
    {
     "data": {
      "text/html": [
       "<div>\n",
       "<style scoped>\n",
       "    .dataframe tbody tr th:only-of-type {\n",
       "        vertical-align: middle;\n",
       "    }\n",
       "\n",
       "    .dataframe tbody tr th {\n",
       "        vertical-align: top;\n",
       "    }\n",
       "\n",
       "    .dataframe thead th {\n",
       "        text-align: right;\n",
       "    }\n",
       "</style>\n",
       "<table border=\"1\" class=\"dataframe\">\n",
       "  <thead>\n",
       "    <tr style=\"text-align: right;\">\n",
       "      <th></th>\n",
       "      <th>customer_id</th>\n",
       "      <th>monthly_charges</th>\n",
       "      <th>tenure</th>\n",
       "      <th>total_charges</th>\n",
       "      <th>scaled_monthly_charges</th>\n",
       "      <th>scaled_tenure</th>\n",
       "      <th>scaled_total_charges</th>\n",
       "    </tr>\n",
       "  </thead>\n",
       "  <tbody>\n",
       "    <tr>\n",
       "      <th>103</th>\n",
       "      <td>0604-THJFP</td>\n",
       "      <td>75.95</td>\n",
       "      <td>59</td>\n",
       "      <td>4542.35</td>\n",
       "      <td>0.228146</td>\n",
       "      <td>-0.302582</td>\n",
       "      <td>0.214511</td>\n",
       "    </tr>\n",
       "    <tr>\n",
       "      <th>1334</th>\n",
       "      <td>7941-RCJOW</td>\n",
       "      <td>19.55</td>\n",
       "      <td>65</td>\n",
       "      <td>1218.65</td>\n",
       "      <td>-1.661550</td>\n",
       "      <td>0.038594</td>\n",
       "      <td>-0.744663</td>\n",
       "    </tr>\n",
       "    <tr>\n",
       "      <th>1275</th>\n",
       "      <td>7596-IIWYC</td>\n",
       "      <td>20.25</td>\n",
       "      <td>27</td>\n",
       "      <td>538.20</td>\n",
       "      <td>-0.944311</td>\n",
       "      <td>-1.267761</td>\n",
       "      <td>-1.429480</td>\n",
       "    </tr>\n",
       "    <tr>\n",
       "      <th>1073</th>\n",
       "      <td>6445-TNRXS</td>\n",
       "      <td>114.70</td>\n",
       "      <td>68</td>\n",
       "      <td>7849.85</td>\n",
       "      <td>1.854314</td>\n",
       "      <td>0.287296</td>\n",
       "      <td>1.625604</td>\n",
       "    </tr>\n",
       "    <tr>\n",
       "      <th>1320</th>\n",
       "      <td>7799-LGRDP</td>\n",
       "      <td>25.70</td>\n",
       "      <td>43</td>\n",
       "      <td>1188.20</td>\n",
       "      <td>-0.358799</td>\n",
       "      <td>-0.903535</td>\n",
       "      <td>-0.787485</td>\n",
       "    </tr>\n",
       "  </tbody>\n",
       "</table>\n",
       "</div>"
      ],
      "text/plain": [
       "     customer_id  monthly_charges  tenure  total_charges  \\\n",
       "103   0604-THJFP            75.95      59        4542.35   \n",
       "1334  7941-RCJOW            19.55      65        1218.65   \n",
       "1275  7596-IIWYC            20.25      27         538.20   \n",
       "1073  6445-TNRXS           114.70      68        7849.85   \n",
       "1320  7799-LGRDP            25.70      43        1188.20   \n",
       "\n",
       "      scaled_monthly_charges  scaled_tenure  scaled_total_charges  \n",
       "103                 0.228146      -0.302582              0.214511  \n",
       "1334               -1.661550       0.038594             -0.744663  \n",
       "1275               -0.944311      -1.267761             -1.429480  \n",
       "1073                1.854314       0.287296              1.625604  \n",
       "1320               -0.358799      -0.903535             -0.787485  "
      ]
     },
     "execution_count": 12,
     "metadata": {},
     "output_type": "execute_result"
    }
   ],
   "source": [
    "# 1. Create the object\n",
    "scaler = sklearn.preprocessing.QuantileTransformer(output_distribution='normal')\n",
    "\n",
    "# 2. Fit the object\n",
    "scaler.fit(train[columns_to_scale])\n",
    "\n",
    "# 3. Use the object (use the min, max to do the transformation)\n",
    "scaled_columns = scaler.transform(train[columns_to_scale])\n",
    "\n",
    "# 4. Create a dataframe from the scaled values\n",
    "pd.DataFrame(scaled_columns, index = train.index,\n",
    "             columns = ['scaled_monthly_charges', 'scaled_tenure', 'scaled_total_charges'])\n",
    "\n",
    "# 5. Assign the scaled values as new columns in the train\n",
    "train[['scaled_monthly_charges', 'scaled_tenure', 'scaled_total_charges']] = scaled_columns\n",
    "\n",
    "train.head()"
   ]
  },
  {
   "cell_type": "code",
   "execution_count": 13,
   "id": "67f564ae",
   "metadata": {},
   "outputs": [
    {
     "data": {
      "image/png": "[encoded data removed]",
      "text/plain": [
       "<Figure size 936x432 with 2 Axes>"
      ]
     },
     "metadata": {
      "needs_background": "light"
     },
     "output_type": "display_data"
    },
    {
     "data": {
      "image/png": "[encoded data removed]",
      "text/plain": [
       "<Figure size 936x432 with 2 Axes>"
      ]
     },
     "metadata": {
      "needs_background": "light"
     },
     "output_type": "display_data"
    },
    {
     "data": {
      "image/png": "[encoded data removed]",
      "text/plain": [
       "<Figure size 936x432 with 2 Axes>"
      ]
     },
     "metadata": {
      "needs_background": "light"
     },
     "output_type": "display_data"
    }
   ],
   "source": [
    "telco_visualize('Non-linear Scaler')"
   ]
  },
  {
   "cell_type": "markdown",
   "id": "5c7b6bf0",
   "metadata": {},
   "source": [
    "### 2. Apply the .inverse_transform method to your scaled data. Is the resulting dataset the exact same as the original data?"
   ]
  },
  {
   "cell_type": "code",
   "execution_count": 14,
   "id": "2c133e23",
   "metadata": {},
   "outputs": [
    {
     "data": {
      "text/html": [
       "<div>\n",
       "<style scoped>\n",
       "    .dataframe tbody tr th:only-of-type {\n",
       "        vertical-align: middle;\n",
       "    }\n",
       "\n",
       "    .dataframe tbody tr th {\n",
       "        vertical-align: top;\n",
       "    }\n",
       "\n",
       "    .dataframe thead th {\n",
       "        text-align: right;\n",
       "    }\n",
       "</style>\n",
       "<table border=\"1\" class=\"dataframe\">\n",
       "  <thead>\n",
       "    <tr style=\"text-align: right;\">\n",
       "      <th></th>\n",
       "      <th>customer_id</th>\n",
       "      <th>monthly_charges</th>\n",
       "      <th>tenure</th>\n",
       "      <th>total_charges</th>\n",
       "    </tr>\n",
       "  </thead>\n",
       "  <tbody>\n",
       "    <tr>\n",
       "      <th>103</th>\n",
       "      <td>0604-THJFP</td>\n",
       "      <td>75.95</td>\n",
       "      <td>59</td>\n",
       "      <td>4542.35</td>\n",
       "    </tr>\n",
       "    <tr>\n",
       "      <th>1334</th>\n",
       "      <td>7941-RCJOW</td>\n",
       "      <td>19.55</td>\n",
       "      <td>65</td>\n",
       "      <td>1218.65</td>\n",
       "    </tr>\n",
       "    <tr>\n",
       "      <th>1275</th>\n",
       "      <td>7596-IIWYC</td>\n",
       "      <td>20.25</td>\n",
       "      <td>27</td>\n",
       "      <td>538.20</td>\n",
       "    </tr>\n",
       "    <tr>\n",
       "      <th>1073</th>\n",
       "      <td>6445-TNRXS</td>\n",
       "      <td>114.70</td>\n",
       "      <td>68</td>\n",
       "      <td>7849.85</td>\n",
       "    </tr>\n",
       "    <tr>\n",
       "      <th>1320</th>\n",
       "      <td>7799-LGRDP</td>\n",
       "      <td>25.70</td>\n",
       "      <td>43</td>\n",
       "      <td>1188.20</td>\n",
       "    </tr>\n",
       "  </tbody>\n",
       "</table>\n",
       "</div>"
      ],
      "text/plain": [
       "     customer_id  monthly_charges  tenure  total_charges\n",
       "103   0604-THJFP            75.95      59        4542.35\n",
       "1334  7941-RCJOW            19.55      65        1218.65\n",
       "1275  7596-IIWYC            20.25      27         538.20\n",
       "1073  6445-TNRXS           114.70      68        7849.85\n",
       "1320  7799-LGRDP            25.70      43        1188.20"
      ]
     },
     "execution_count": 14,
     "metadata": {},
     "output_type": "execute_result"
    }
   ],
   "source": [
    "# Resetting my train by dropping the scaled columns\n",
    "train = train[['customer_id','monthly_charges','tenure','total_charges']]\n",
    "train.head()"
   ]
  },
  {
   "cell_type": "code",
   "execution_count": 15,
   "id": "301a912d",
   "metadata": {},
   "outputs": [
    {
     "data": {
      "text/plain": [
       "array([[0.5743513 , 0.81428571, 0.52103712],\n",
       "       [0.01147705, 0.9       , 0.13537207],\n",
       "       [0.01846307, 0.35714286, 0.05641615],\n",
       "       ...,\n",
       "       [0.23502994, 0.94285714, 0.33809656],\n",
       "       [0.01397206, 0.97142857, 0.15394925],\n",
       "       [0.05738523, 1.        , 0.20009631]])"
      ]
     },
     "execution_count": 15,
     "metadata": {},
     "output_type": "execute_result"
    }
   ],
   "source": [
    "# Scaling with Min-Max Scaler\n",
    "scaler = sklearn.preprocessing.MinMaxScaler()\n",
    "scaled = scaler.fit_transform(train[columns_to_scale])\n",
    "scaled"
   ]
  },
  {
   "cell_type": "code",
   "execution_count": 16,
   "id": "4c7cfe7c",
   "metadata": {},
   "outputs": [
    {
     "data": {
      "text/html": [
       "<div>\n",
       "<style scoped>\n",
       "    .dataframe tbody tr th:only-of-type {\n",
       "        vertical-align: middle;\n",
       "    }\n",
       "\n",
       "    .dataframe tbody tr th {\n",
       "        vertical-align: top;\n",
       "    }\n",
       "\n",
       "    .dataframe thead tr th {\n",
       "        text-align: left;\n",
       "    }\n",
       "</style>\n",
       "<table border=\"1\" class=\"dataframe\">\n",
       "  <thead>\n",
       "    <tr>\n",
       "      <th></th>\n",
       "      <th>monthly_charges</th>\n",
       "      <th>tenure</th>\n",
       "      <th>total_charges</th>\n",
       "    </tr>\n",
       "  </thead>\n",
       "  <tbody>\n",
       "    <tr>\n",
       "      <th>103</th>\n",
       "      <td>0.574351</td>\n",
       "      <td>0.814286</td>\n",
       "      <td>0.521037</td>\n",
       "    </tr>\n",
       "    <tr>\n",
       "      <th>1334</th>\n",
       "      <td>0.011477</td>\n",
       "      <td>0.900000</td>\n",
       "      <td>0.135372</td>\n",
       "    </tr>\n",
       "    <tr>\n",
       "      <th>1275</th>\n",
       "      <td>0.018463</td>\n",
       "      <td>0.357143</td>\n",
       "      <td>0.056416</td>\n",
       "    </tr>\n",
       "    <tr>\n",
       "      <th>1073</th>\n",
       "      <td>0.961078</td>\n",
       "      <td>0.942857</td>\n",
       "      <td>0.904822</td>\n",
       "    </tr>\n",
       "    <tr>\n",
       "      <th>1320</th>\n",
       "      <td>0.072854</td>\n",
       "      <td>0.585714</td>\n",
       "      <td>0.131839</td>\n",
       "    </tr>\n",
       "  </tbody>\n",
       "</table>\n",
       "</div>"
      ],
      "text/plain": [
       "     monthly_charges    tenure total_charges\n",
       "103         0.574351  0.814286      0.521037\n",
       "1334        0.011477  0.900000      0.135372\n",
       "1275        0.018463  0.357143      0.056416\n",
       "1073        0.961078  0.942857      0.904822\n",
       "1320        0.072854  0.585714      0.131839"
      ]
     },
     "execution_count": 16,
     "metadata": {},
     "output_type": "execute_result"
    }
   ],
   "source": [
    "# Turning the scaled data into a new dataframe\n",
    "scaled_df = pd.DataFrame(scaled, index = train.index, columns = [columns_to_scale])\n",
    "scaled_df.head()"
   ]
  },
  {
   "cell_type": "code",
   "execution_count": 17,
   "id": "26be3160",
   "metadata": {},
   "outputs": [
    {
     "data": {
      "text/plain": [
       "array([[  75.95,   59.  , 4542.35],\n",
       "       [  19.55,   65.  , 1218.65],\n",
       "       [  20.25,   27.  ,  538.2 ],\n",
       "       ...,\n",
       "       [  41.95,   68.  , 2965.75],\n",
       "       [  19.8 ,   70.  , 1378.75],\n",
       "       [  24.15,   72.  , 1776.45]])"
      ]
     },
     "execution_count": 17,
     "metadata": {},
     "output_type": "execute_result"
    }
   ],
   "source": [
    "# Using the inverse function\n",
    "scaler.inverse_transform(scaled_df)"
   ]
  },
  {
   "cell_type": "code",
   "execution_count": 18,
   "id": "ff7130a9",
   "metadata": {},
   "outputs": [
    {
     "data": {
      "text/html": [
       "<div>\n",
       "<style scoped>\n",
       "    .dataframe tbody tr th:only-of-type {\n",
       "        vertical-align: middle;\n",
       "    }\n",
       "\n",
       "    .dataframe tbody tr th {\n",
       "        vertical-align: top;\n",
       "    }\n",
       "\n",
       "    .dataframe thead tr th {\n",
       "        text-align: left;\n",
       "    }\n",
       "</style>\n",
       "<table border=\"1\" class=\"dataframe\">\n",
       "  <thead>\n",
       "    <tr>\n",
       "      <th></th>\n",
       "      <th>monthly_charges</th>\n",
       "      <th>tenure</th>\n",
       "      <th>total_charges</th>\n",
       "    </tr>\n",
       "  </thead>\n",
       "  <tbody>\n",
       "    <tr>\n",
       "      <th>103</th>\n",
       "      <td>75.95</td>\n",
       "      <td>59.0</td>\n",
       "      <td>4542.35</td>\n",
       "    </tr>\n",
       "    <tr>\n",
       "      <th>1334</th>\n",
       "      <td>19.55</td>\n",
       "      <td>65.0</td>\n",
       "      <td>1218.65</td>\n",
       "    </tr>\n",
       "    <tr>\n",
       "      <th>1275</th>\n",
       "      <td>20.25</td>\n",
       "      <td>27.0</td>\n",
       "      <td>538.20</td>\n",
       "    </tr>\n",
       "    <tr>\n",
       "      <th>1073</th>\n",
       "      <td>114.70</td>\n",
       "      <td>68.0</td>\n",
       "      <td>7849.85</td>\n",
       "    </tr>\n",
       "    <tr>\n",
       "      <th>1320</th>\n",
       "      <td>25.70</td>\n",
       "      <td>43.0</td>\n",
       "      <td>1188.20</td>\n",
       "    </tr>\n",
       "  </tbody>\n",
       "</table>\n",
       "</div>"
      ],
      "text/plain": [
       "     monthly_charges tenure total_charges\n",
       "103            75.95   59.0       4542.35\n",
       "1334           19.55   65.0       1218.65\n",
       "1275           20.25   27.0        538.20\n",
       "1073          114.70   68.0       7849.85\n",
       "1320           25.70   43.0       1188.20"
      ]
     },
     "execution_count": 18,
     "metadata": {},
     "output_type": "execute_result"
    }
   ],
   "source": [
    "# Looks like the inverse function spat out an array. I want to see the values as a dataframe so I'll make that change\n",
    "unscaled_df = pd.DataFrame(scaler.inverse_transform(scaled), index = train.index, columns = [columns_to_scale])\n",
    "unscaled_df.head()\n",
    "\n",
    "# Comparing the tax amount here, to the taxamount in the refreshed train shows that the values scaled and inverse\n",
    "# scaled without changing the values. I expected some rounding to change things but that does not seem to be the case!"
   ]
  },
  {
   "cell_type": "markdown",
   "id": "2228ab2f",
   "metadata": {},
   "source": [
    "### 3. Read the documentation for sklearn's QuantileTransformer. Use normal for the output_distribution and apply this scaler to your data. Visualize the result of your data scaling."
   ]
  },
  {
   "cell_type": "code",
   "execution_count": 19,
   "id": "9cc7db51",
   "metadata": {},
   "outputs": [
    {
     "data": {
      "text/html": [
       "<div>\n",
       "<style scoped>\n",
       "    .dataframe tbody tr th:only-of-type {\n",
       "        vertical-align: middle;\n",
       "    }\n",
       "\n",
       "    .dataframe tbody tr th {\n",
       "        vertical-align: top;\n",
       "    }\n",
       "\n",
       "    .dataframe thead th {\n",
       "        text-align: right;\n",
       "    }\n",
       "</style>\n",
       "<table border=\"1\" class=\"dataframe\">\n",
       "  <thead>\n",
       "    <tr style=\"text-align: right;\">\n",
       "      <th></th>\n",
       "      <th>customer_id</th>\n",
       "      <th>monthly_charges</th>\n",
       "      <th>tenure</th>\n",
       "      <th>total_charges</th>\n",
       "      <th>scaled_monthly_charges</th>\n",
       "      <th>scaled_tenure</th>\n",
       "      <th>scaled_total_charges</th>\n",
       "    </tr>\n",
       "  </thead>\n",
       "  <tbody>\n",
       "    <tr>\n",
       "      <th>103</th>\n",
       "      <td>0604-THJFP</td>\n",
       "      <td>75.95</td>\n",
       "      <td>59</td>\n",
       "      <td>4542.35</td>\n",
       "      <td>0.228146</td>\n",
       "      <td>-0.302582</td>\n",
       "      <td>0.214511</td>\n",
       "    </tr>\n",
       "    <tr>\n",
       "      <th>1334</th>\n",
       "      <td>7941-RCJOW</td>\n",
       "      <td>19.55</td>\n",
       "      <td>65</td>\n",
       "      <td>1218.65</td>\n",
       "      <td>-1.661550</td>\n",
       "      <td>0.038594</td>\n",
       "      <td>-0.744663</td>\n",
       "    </tr>\n",
       "    <tr>\n",
       "      <th>1275</th>\n",
       "      <td>7596-IIWYC</td>\n",
       "      <td>20.25</td>\n",
       "      <td>27</td>\n",
       "      <td>538.20</td>\n",
       "      <td>-0.944311</td>\n",
       "      <td>-1.267761</td>\n",
       "      <td>-1.429480</td>\n",
       "    </tr>\n",
       "    <tr>\n",
       "      <th>1073</th>\n",
       "      <td>6445-TNRXS</td>\n",
       "      <td>114.70</td>\n",
       "      <td>68</td>\n",
       "      <td>7849.85</td>\n",
       "      <td>1.854314</td>\n",
       "      <td>0.287296</td>\n",
       "      <td>1.625604</td>\n",
       "    </tr>\n",
       "    <tr>\n",
       "      <th>1320</th>\n",
       "      <td>7799-LGRDP</td>\n",
       "      <td>25.70</td>\n",
       "      <td>43</td>\n",
       "      <td>1188.20</td>\n",
       "      <td>-0.358799</td>\n",
       "      <td>-0.903535</td>\n",
       "      <td>-0.787485</td>\n",
       "    </tr>\n",
       "  </tbody>\n",
       "</table>\n",
       "</div>"
      ],
      "text/plain": [
       "     customer_id  monthly_charges  tenure  total_charges  \\\n",
       "103   0604-THJFP            75.95      59        4542.35   \n",
       "1334  7941-RCJOW            19.55      65        1218.65   \n",
       "1275  7596-IIWYC            20.25      27         538.20   \n",
       "1073  6445-TNRXS           114.70      68        7849.85   \n",
       "1320  7799-LGRDP            25.70      43        1188.20   \n",
       "\n",
       "      scaled_monthly_charges  scaled_tenure  scaled_total_charges  \n",
       "103                 0.228146      -0.302582              0.214511  \n",
       "1334               -1.661550       0.038594             -0.744663  \n",
       "1275               -0.944311      -1.267761             -1.429480  \n",
       "1073                1.854314       0.287296              1.625604  \n",
       "1320               -0.358799      -0.903535             -0.787485  "
      ]
     },
     "execution_count": 19,
     "metadata": {},
     "output_type": "execute_result"
    }
   ],
   "source": [
    "# 1. Create the object\n",
    "scaler = sklearn.preprocessing.QuantileTransformer(output_distribution='normal')\n",
    "\n",
    "# 2. Fit the object\n",
    "scaler.fit(train[columns_to_scale])\n",
    "\n",
    "# 3. Use the object (use the min, max to do the transformation)\n",
    "scaled_columns = scaler.transform(train[columns_to_scale])\n",
    "\n",
    "# 4. Create a dataframe from the scaled values\n",
    "pd.DataFrame(scaled_columns, index = train.index,\n",
    "             columns = ['scaled_monthly_charges', 'scaled_tenure', 'scaled_total_charges'])\n",
    "\n",
    "# 5. Assign the scaled values as new columns in the train\n",
    "train[['scaled_monthly_charges', 'scaled_tenure', 'scaled_total_charges']] = scaled_columns\n",
    "\n",
    "train.head()"
   ]
  },
  {
   "cell_type": "code",
   "execution_count": 20,
   "id": "4549a9ec",
   "metadata": {},
   "outputs": [
    {
     "data": {
      "image/png": "[encoded data removed]",
      "text/plain": [
       "<Figure size 936x432 with 2 Axes>"
      ]
     },
     "metadata": {
      "needs_background": "light"
     },
     "output_type": "display_data"
    },
    {
     "data": {
      "image/png": "[encoded data removed]",
      "text/plain": [
       "<Figure size 936x432 with 2 Axes>"
      ]
     },
     "metadata": {
      "needs_background": "light"
     },
     "output_type": "display_data"
    },
    {
     "data": {
      "image/png": "[encoded data removed]",
      "text/plain": [
       "<Figure size 936x432 with 2 Axes>"
      ]
     },
     "metadata": {
      "needs_background": "light"
     },
     "output_type": "display_data"
    }
   ],
   "source": [
    "telco_visualize('Non-linear Scaler')"
   ]
  },
  {
   "cell_type": "markdown",
   "id": "c81a0e90",
   "metadata": {},
   "source": [
    "### 4. Use the QuantileTransformer, but omit the output_distribution argument. Visualize your results. What do you notice?"
   ]
  },
  {
   "cell_type": "code",
   "execution_count": 21,
   "id": "147c1e01",
   "metadata": {},
   "outputs": [
    {
     "data": {
      "text/html": [
       "<div>\n",
       "<style scoped>\n",
       "    .dataframe tbody tr th:only-of-type {\n",
       "        vertical-align: middle;\n",
       "    }\n",
       "\n",
       "    .dataframe tbody tr th {\n",
       "        vertical-align: top;\n",
       "    }\n",
       "\n",
       "    .dataframe thead th {\n",
       "        text-align: right;\n",
       "    }\n",
       "</style>\n",
       "<table border=\"1\" class=\"dataframe\">\n",
       "  <thead>\n",
       "    <tr style=\"text-align: right;\">\n",
       "      <th></th>\n",
       "      <th>customer_id</th>\n",
       "      <th>monthly_charges</th>\n",
       "      <th>tenure</th>\n",
       "      <th>total_charges</th>\n",
       "      <th>scaled_monthly_charges</th>\n",
       "      <th>scaled_tenure</th>\n",
       "      <th>scaled_total_charges</th>\n",
       "    </tr>\n",
       "  </thead>\n",
       "  <tbody>\n",
       "    <tr>\n",
       "      <th>103</th>\n",
       "      <td>0604-THJFP</td>\n",
       "      <td>75.95</td>\n",
       "      <td>59</td>\n",
       "      <td>4542.35</td>\n",
       "      <td>0.590234</td>\n",
       "      <td>0.381104</td>\n",
       "      <td>0.584926</td>\n",
       "    </tr>\n",
       "    <tr>\n",
       "      <th>1334</th>\n",
       "      <td>7941-RCJOW</td>\n",
       "      <td>19.55</td>\n",
       "      <td>65</td>\n",
       "      <td>1218.65</td>\n",
       "      <td>0.048301</td>\n",
       "      <td>0.515393</td>\n",
       "      <td>0.228238</td>\n",
       "    </tr>\n",
       "    <tr>\n",
       "      <th>1275</th>\n",
       "      <td>7596-IIWYC</td>\n",
       "      <td>20.25</td>\n",
       "      <td>27</td>\n",
       "      <td>538.20</td>\n",
       "      <td>0.172505</td>\n",
       "      <td>0.102442</td>\n",
       "      <td>0.076433</td>\n",
       "    </tr>\n",
       "    <tr>\n",
       "      <th>1073</th>\n",
       "      <td>6445-TNRXS</td>\n",
       "      <td>114.70</td>\n",
       "      <td>68</td>\n",
       "      <td>7849.85</td>\n",
       "      <td>0.968153</td>\n",
       "      <td>0.613057</td>\n",
       "      <td>0.947983</td>\n",
       "    </tr>\n",
       "    <tr>\n",
       "      <th>1320</th>\n",
       "      <td>7799-LGRDP</td>\n",
       "      <td>25.70</td>\n",
       "      <td>43</td>\n",
       "      <td>1188.20</td>\n",
       "      <td>0.359873</td>\n",
       "      <td>0.183121</td>\n",
       "      <td>0.215499</td>\n",
       "    </tr>\n",
       "  </tbody>\n",
       "</table>\n",
       "</div>"
      ],
      "text/plain": [
       "     customer_id  monthly_charges  tenure  total_charges  \\\n",
       "103   0604-THJFP            75.95      59        4542.35   \n",
       "1334  7941-RCJOW            19.55      65        1218.65   \n",
       "1275  7596-IIWYC            20.25      27         538.20   \n",
       "1073  6445-TNRXS           114.70      68        7849.85   \n",
       "1320  7799-LGRDP            25.70      43        1188.20   \n",
       "\n",
       "      scaled_monthly_charges  scaled_tenure  scaled_total_charges  \n",
       "103                 0.590234       0.381104              0.584926  \n",
       "1334                0.048301       0.515393              0.228238  \n",
       "1275                0.172505       0.102442              0.076433  \n",
       "1073                0.968153       0.613057              0.947983  \n",
       "1320                0.359873       0.183121              0.215499  "
      ]
     },
     "execution_count": 21,
     "metadata": {},
     "output_type": "execute_result"
    }
   ],
   "source": [
    "# 1. Create the object\n",
    "scaler = sklearn.preprocessing.QuantileTransformer()\n",
    "\n",
    "# 2. Fit the object\n",
    "scaler.fit(train[columns_to_scale])\n",
    "\n",
    "# 3. Use the object (use the min, max to do the transformation)\n",
    "scaled_columns = scaler.transform(train[columns_to_scale])\n",
    "\n",
    "# 4. Create a dataframe from the scaled values\n",
    "pd.DataFrame(scaled_columns, index = train.index,\n",
    "             columns = ['scaled_monthly_charges', 'scaled_tenure', 'scaled_total_charges'])\n",
    "\n",
    "# 5. Assign the scaled values as new columns in the train\n",
    "train[['scaled_monthly_charges', 'scaled_tenure', 'scaled_total_charges']] = scaled_columns\n",
    "\n",
    "train.head()"
   ]
  },
  {
   "cell_type": "code",
   "execution_count": 22,
   "id": "b8f5744c",
   "metadata": {},
   "outputs": [
    {
     "data": {
      "image/png": "[encoded data removed]",
      "text/plain": [
       "<Figure size 936x432 with 2 Axes>"
      ]
     },
     "metadata": {
      "needs_background": "light"
     },
     "output_type": "display_data"
    },
    {
     "data": {
      "image/png": "[encoded data removed]",
      "text/plain": [
       "<Figure size 936x432 with 2 Axes>"
      ]
     },
     "metadata": {
      "needs_background": "light"
     },
     "output_type": "display_data"
    },
    {
     "data": {
      "image/png": "[encoded data removed]",
      "text/plain": [
       "<Figure size 936x432 with 2 Axes>"
      ]
     },
     "metadata": {
      "needs_background": "light"
     },
     "output_type": "display_data"
    }
   ],
   "source": [
    "telco_visualize('Non-linear Scaler')"
   ]
  },
  {
   "cell_type": "markdown",
   "id": "4371f0d8",
   "metadata": {},
   "source": [
    "### 5. Based on the work you've done, choose a scaling method for your dataset. Write a function within your prepare.py that accepts as input the train, validate, and test data splits, and returns the scaled versions of each. Be sure to only learn the parameters for scaling from your training data!"
   ]
  },
  {
   "cell_type": "code",
   "execution_count": 23,
   "id": "6344162e",
   "metadata": {},
   "outputs": [],
   "source": [
    "# I'll do this with my zillow data!"
   ]
  },
  {
   "cell_type": "markdown",
   "id": "41e8b5ad",
   "metadata": {},
   "source": [
    "<hr style=\"border:2px solid blue\"> </hr>\n",
    "\n",
    "# Exercises with Zillow Data\n",
    "\n",
    "<hr style=\"border:2px solid blue\"> </hr>"
   ]
  },
  {
   "cell_type": "markdown",
   "id": "9a166f29",
   "metadata": {},
   "source": [
    "# 1. Apply the scalers we talked about in this lesson to your data and visualize the results for the unscaled and scaled distribution .\n"
   ]
  },
  {
   "cell_type": "code",
   "execution_count": 24,
   "id": "afb7db9b",
   "metadata": {},
   "outputs": [],
   "source": [
    "# First I have to split the data. The scaling has to be fitted, which means I need my Train dataset\n",
    "# Note: When scaling, fit on train and then apply to validate and test. \n",
    "# I will not be applying scaling to validate and test for these exercises since we won't see them, and to save time\n",
    "train , validate, test = wrangle.wrangle_zillow()"
   ]
  },
  {
   "cell_type": "code",
   "execution_count": 25,
   "id": "d2c568fd",
   "metadata": {},
   "outputs": [
    {
     "data": {
      "image/png": "[encoded data removed]",
      "text/plain": [
       "<Figure size 432x288 with 1 Axes>"
      ]
     },
     "metadata": {
      "needs_background": "light"
     },
     "output_type": "display_data"
    },
    {
     "data": {
      "image/png": "[encoded data removed]",
      "text/plain": [
       "<Figure size 432x288 with 1 Axes>"
      ]
     },
     "metadata": {
      "needs_background": "light"
     },
     "output_type": "display_data"
    },
    {
     "data": {
      "image/png": "[encoded data removed]",
      "text/plain": [
       "<Figure size 432x288 with 1 Axes>"
      ]
     },
     "metadata": {
      "needs_background": "light"
     },
     "output_type": "display_data"
    },
    {
     "data": {
      "image/png": "[encoded data removed]",
      "text/plain": [
       "<Figure size 432x288 with 1 Axes>"
      ]
     },
     "metadata": {
      "needs_background": "light"
     },
     "output_type": "display_data"
    },
    {
     "data": {
      "image/png": "[encoded data removed]",
      "text/plain": [
       "<Figure size 432x288 with 1 Axes>"
      ]
     },
     "metadata": {
      "needs_background": "light"
     },
     "output_type": "display_data"
    },
    {
     "data": {
      "image/png": "[encoded data removed]",
      "text/plain": [
       "<Figure size 432x288 with 1 Axes>"
      ]
     },
     "metadata": {
      "needs_background": "light"
     },
     "output_type": "display_data"
    },
    {
     "data": {
      "image/png": "[encoded data removed]",
      "text/plain": [
       "<Figure size 432x288 with 1 Axes>"
      ]
     },
     "metadata": {
      "needs_background": "light"
     },
     "output_type": "display_data"
    }
   ],
   "source": [
    "columns = train.columns \n",
    "for x in columns: \n",
    "    train[ x ].plot.hist(title= x)\n",
    "    plt.show();"
   ]
  },
  {
   "cell_type": "markdown",
   "id": "cb80970b",
   "metadata": {},
   "source": [
    "### Min-Max Scaler"
   ]
  },
  {
   "cell_type": "code",
   "execution_count": 26,
   "id": "3a4f648e",
   "metadata": {},
   "outputs": [
    {
     "data": {
      "text/html": [
       "<div>\n",
       "<style scoped>\n",
       "    .dataframe tbody tr th:only-of-type {\n",
       "        vertical-align: middle;\n",
       "    }\n",
       "\n",
       "    .dataframe tbody tr th {\n",
       "        vertical-align: top;\n",
       "    }\n",
       "\n",
       "    .dataframe thead th {\n",
       "        text-align: right;\n",
       "    }\n",
       "</style>\n",
       "<table border=\"1\" class=\"dataframe\">\n",
       "  <thead>\n",
       "    <tr style=\"text-align: right;\">\n",
       "      <th></th>\n",
       "      <th>bedrooms</th>\n",
       "      <th>bathrooms</th>\n",
       "      <th>area</th>\n",
       "      <th>tax_value</th>\n",
       "      <th>year_built</th>\n",
       "      <th>taxamount</th>\n",
       "      <th>fips</th>\n",
       "      <th>scaled_taxamount</th>\n",
       "      <th>scaled_tax_value</th>\n",
       "    </tr>\n",
       "  </thead>\n",
       "  <tbody>\n",
       "    <tr>\n",
       "      <th>1901200</th>\n",
       "      <td>2</td>\n",
       "      <td>2.0</td>\n",
       "      <td>1205.0</td>\n",
       "      <td>354670.0</td>\n",
       "      <td>1941</td>\n",
       "      <td>4395.55</td>\n",
       "      <td>6037</td>\n",
       "      <td>0.422635</td>\n",
       "      <td>0.372953</td>\n",
       "    </tr>\n",
       "    <tr>\n",
       "      <th>1786912</th>\n",
       "      <td>5</td>\n",
       "      <td>2.0</td>\n",
       "      <td>1586.0</td>\n",
       "      <td>192000.0</td>\n",
       "      <td>2004</td>\n",
       "      <td>3114.34</td>\n",
       "      <td>6037</td>\n",
       "      <td>0.298982</td>\n",
       "      <td>0.201887</td>\n",
       "    </tr>\n",
       "    <tr>\n",
       "      <th>930919</th>\n",
       "      <td>2</td>\n",
       "      <td>1.0</td>\n",
       "      <td>860.0</td>\n",
       "      <td>212332.0</td>\n",
       "      <td>1952</td>\n",
       "      <td>2692.90</td>\n",
       "      <td>6037</td>\n",
       "      <td>0.258308</td>\n",
       "      <td>0.223268</td>\n",
       "    </tr>\n",
       "    <tr>\n",
       "      <th>1805072</th>\n",
       "      <td>2</td>\n",
       "      <td>1.0</td>\n",
       "      <td>1125.0</td>\n",
       "      <td>628500.0</td>\n",
       "      <td>1948</td>\n",
       "      <td>8168.31</td>\n",
       "      <td>6037</td>\n",
       "      <td>0.786753</td>\n",
       "      <td>0.660917</td>\n",
       "    </tr>\n",
       "    <tr>\n",
       "      <th>1775847</th>\n",
       "      <td>3</td>\n",
       "      <td>2.5</td>\n",
       "      <td>1731.0</td>\n",
       "      <td>532000.0</td>\n",
       "      <td>2002</td>\n",
       "      <td>5724.10</td>\n",
       "      <td>6111</td>\n",
       "      <td>0.550856</td>\n",
       "      <td>0.559436</td>\n",
       "    </tr>\n",
       "  </tbody>\n",
       "</table>\n",
       "</div>"
      ],
      "text/plain": [
       "         bedrooms  bathrooms    area  tax_value  year_built  taxamount  fips  \\\n",
       "1901200         2        2.0  1205.0   354670.0        1941    4395.55  6037   \n",
       "1786912         5        2.0  1586.0   192000.0        2004    3114.34  6037   \n",
       "930919          2        1.0   860.0   212332.0        1952    2692.90  6037   \n",
       "1805072         2        1.0  1125.0   628500.0        1948    8168.31  6037   \n",
       "1775847         3        2.5  1731.0   532000.0        2002    5724.10  6111   \n",
       "\n",
       "         scaled_taxamount  scaled_tax_value  \n",
       "1901200          0.422635          0.372953  \n",
       "1786912          0.298982          0.201887  \n",
       "930919           0.258308          0.223268  \n",
       "1805072          0.786753          0.660917  \n",
       "1775847          0.550856          0.559436  "
      ]
     },
     "execution_count": 26,
     "metadata": {},
     "output_type": "execute_result"
    }
   ],
   "source": [
    "# 1. Create the object\n",
    "scaler = sklearn.preprocessing.MinMaxScaler()\n",
    "\n",
    "# 2. Fit the object (learn the min and max value)\n",
    "scaler.fit(train[['taxamount', 'tax_value']])\n",
    "\n",
    "# 3. Use the object (use the min, max to do the transformation)\n",
    "scaled_taxes = scaler.transform(train[['taxamount', 'tax_value']])\n",
    "\n",
    "# 4. Create a dataframe from the scaled values\n",
    "pd.DataFrame(scaled_taxes, index = train.index,\n",
    "             columns = ['scaled_taxamount', 'scaled_tax_value'])\n",
    "\n",
    "# 5. Assign the scaled values as new columns in the train\n",
    "train[['scaled_taxamount', 'scaled_tax_value']] = scaled_taxes\n",
    "\n",
    "train.head()"
   ]
  },
  {
   "cell_type": "code",
   "execution_count": 27,
   "id": "63b48bdb",
   "metadata": {},
   "outputs": [
    {
     "data": {
      "image/png": "[encoded data removed]",
      "text/plain": [
       "<Figure size 936x432 with 2 Axes>"
      ]
     },
     "metadata": {
      "needs_background": "light"
     },
     "output_type": "display_data"
    }
   ],
   "source": [
    "# Visualize the un-scaled and scaled distribution for taxamount\n",
    "# Notice that the distribution remains the same, but the scale of the x axis has changed!\n",
    "plt.figure(figsize=(13, 6))\n",
    "\n",
    "# subplot 1\n",
    "plt.subplot(121)\n",
    "train.taxamount.plot.hist(title='Original')\n",
    "\n",
    "#subplot 2\n",
    "plt.subplot(122)\n",
    "train.scaled_taxamount.plot.hist(title='Min-Max Scaled');"
   ]
  },
  {
   "cell_type": "markdown",
   "id": "1b5ffa9e",
   "metadata": {},
   "source": [
    "### Standard Scaler"
   ]
  },
  {
   "cell_type": "code",
   "execution_count": 28,
   "id": "bb10e355",
   "metadata": {},
   "outputs": [],
   "source": [
    "# 1. Create the object\n",
    "scaler = sklearn.preprocessing.StandardScaler()\n",
    "\n",
    "# 2. Fit the object\n",
    "scaler.fit(train[['taxamount']])\n",
    "\n",
    "# 3. Use the object. Scale total_bill only\n",
    "train['taxamount_scaled'] = scaler.transform(train[['taxamount']])\n"
   ]
  },
  {
   "cell_type": "code",
   "execution_count": 29,
   "id": "5983f2da",
   "metadata": {},
   "outputs": [
    {
     "data": {
      "image/png": "[encoded data removed]",
      "text/plain": [
       "<Figure size 936x432 with 2 Axes>"
      ]
     },
     "metadata": {
      "needs_background": "light"
     },
     "output_type": "display_data"
    }
   ],
   "source": [
    "# Plotting the scaled and unscaled distributions\n",
    "# Notice again that the distribution remains the same, but the x axis has been scaled differently\n",
    "plt.figure(figsize=(13, 6))\n",
    "\n",
    "plt.subplot(121)\n",
    "train.taxamount.plot.hist(title='Original')\n",
    "\n",
    "plt.subplot(122)\n",
    "train.taxamount_scaled.plot.hist(title='Standard Scaled');"
   ]
  },
  {
   "cell_type": "code",
   "execution_count": 30,
   "id": "b003d559",
   "metadata": {},
   "outputs": [
    {
     "data": {
      "image/png": "[encoded data removed]",
      "text/plain": [
       "<Figure size 432x288 with 1 Axes>"
      ]
     },
     "metadata": {
      "needs_background": "light"
     },
     "output_type": "display_data"
    }
   ],
   "source": [
    "plt.scatter(train.taxamount, train.taxamount_scaled)\n",
    "plt.xlabel('Tax Amount ($)')\n",
    "plt.ylabel('Tax Amount Scaled')\n",
    "plt.title('Standard Scaler');"
   ]
  },
  {
   "cell_type": "markdown",
   "id": "87af425c",
   "metadata": {},
   "source": [
    "### Robust Scaler"
   ]
  },
  {
   "cell_type": "code",
   "execution_count": 31,
   "id": "5c68197e",
   "metadata": {},
   "outputs": [
    {
     "data": {
      "image/png": "[encoded data removed]",
      "text/plain": [
       "<Figure size 936x432 with 2 Axes>"
      ]
     },
     "metadata": {
      "needs_background": "light"
     },
     "output_type": "display_data"
    }
   ],
   "source": [
    "# 1. Create the object\n",
    "scaler = sklearn.preprocessing.RobustScaler()\n",
    "\n",
    "# 2. Fit the object\n",
    "scaler.fit(train[['tax_value']])\n",
    "\n",
    "# 3. Use the object \n",
    "train['tax_value_scaled'] = scaler.transform(train[['tax_value']])\n",
    "\n",
    "# Plot the scaled and unscaled distributions\n",
    "plt.figure(figsize=(13, 6))\n",
    "plt.subplot(121)\n",
    "train.tax_value.plot.hist(title='Original')\n",
    "plt.subplot(122)\n",
    "train.tax_value_scaled.plot.hist(title='Robust Scaled');"
   ]
  },
  {
   "cell_type": "markdown",
   "id": "ecde48bf",
   "metadata": {},
   "source": [
    "## Non-linear Scaler"
   ]
  },
  {
   "cell_type": "code",
   "execution_count": 32,
   "id": "9277c54e",
   "metadata": {},
   "outputs": [
    {
     "data": {
      "image/png": "[encoded data removed]",
      "text/plain": [
       "<Figure size 936x432 with 2 Axes>"
      ]
     },
     "metadata": {
      "needs_background": "light"
     },
     "output_type": "display_data"
    }
   ],
   "source": [
    "# 1. Create the object\n",
    "scaler = sklearn.preprocessing.QuantileTransformer(output_distribution='normal')\n",
    "\n",
    "# 2. Fit the object\n",
    "scaler.fit(train[['tax_value']])\n",
    "\n",
    "# 3. Use the object\n",
    "train['tax_value_scaled'] = scaler.transform(train[['tax_value']])\n",
    "\n",
    "\n",
    "# Plot the scaled and unscaled distribution\n",
    "# Oh wow! The distribution did NOT remain the same, and the scale of the x axis has changed as well.\n",
    "plt.figure(figsize=(13, 6))\n",
    "plt.subplot(121)\n",
    "train.tax_value.plot.hist(title='Original')\n",
    "plt.subplot(122)\n",
    "train.tax_value_scaled.plot.hist(title='Quantile Transformed to Normal');"
   ]
  },
  {
   "cell_type": "markdown",
   "id": "a5e8ae06",
   "metadata": {},
   "source": [
    "# 2. Apply the .inverse_transform method to your scaled data. Is the resulting dataset the exact same as the original data?\n"
   ]
  },
  {
   "cell_type": "code",
   "execution_count": 48,
   "id": "b0dbe72c",
   "metadata": {},
   "outputs": [
    {
     "data": {
      "text/html": [
       "<div>\n",
       "<style scoped>\n",
       "    .dataframe tbody tr th:only-of-type {\n",
       "        vertical-align: middle;\n",
       "    }\n",
       "\n",
       "    .dataframe tbody tr th {\n",
       "        vertical-align: top;\n",
       "    }\n",
       "\n",
       "    .dataframe thead th {\n",
       "        text-align: right;\n",
       "    }\n",
       "</style>\n",
       "<table border=\"1\" class=\"dataframe\">\n",
       "  <thead>\n",
       "    <tr style=\"text-align: right;\">\n",
       "      <th></th>\n",
       "      <th>bedrooms</th>\n",
       "      <th>bathrooms</th>\n",
       "      <th>area</th>\n",
       "      <th>tax_value</th>\n",
       "      <th>year_built</th>\n",
       "      <th>taxamount</th>\n",
       "      <th>fips</th>\n",
       "    </tr>\n",
       "  </thead>\n",
       "  <tbody>\n",
       "    <tr>\n",
       "      <th>1901200</th>\n",
       "      <td>2</td>\n",
       "      <td>2.0</td>\n",
       "      <td>1205.0</td>\n",
       "      <td>0.372953</td>\n",
       "      <td>1941</td>\n",
       "      <td>0.422635</td>\n",
       "      <td>6037</td>\n",
       "    </tr>\n",
       "    <tr>\n",
       "      <th>1786912</th>\n",
       "      <td>5</td>\n",
       "      <td>2.0</td>\n",
       "      <td>1586.0</td>\n",
       "      <td>0.201887</td>\n",
       "      <td>2004</td>\n",
       "      <td>0.298982</td>\n",
       "      <td>6037</td>\n",
       "    </tr>\n",
       "    <tr>\n",
       "      <th>930919</th>\n",
       "      <td>2</td>\n",
       "      <td>1.0</td>\n",
       "      <td>860.0</td>\n",
       "      <td>0.223268</td>\n",
       "      <td>1952</td>\n",
       "      <td>0.258308</td>\n",
       "      <td>6037</td>\n",
       "    </tr>\n",
       "    <tr>\n",
       "      <th>1805072</th>\n",
       "      <td>2</td>\n",
       "      <td>1.0</td>\n",
       "      <td>1125.0</td>\n",
       "      <td>0.660917</td>\n",
       "      <td>1948</td>\n",
       "      <td>0.786753</td>\n",
       "      <td>6037</td>\n",
       "    </tr>\n",
       "    <tr>\n",
       "      <th>1775847</th>\n",
       "      <td>3</td>\n",
       "      <td>2.5</td>\n",
       "      <td>1731.0</td>\n",
       "      <td>0.559436</td>\n",
       "      <td>2002</td>\n",
       "      <td>0.550856</td>\n",
       "      <td>6111</td>\n",
       "    </tr>\n",
       "  </tbody>\n",
       "</table>\n",
       "</div>"
      ],
      "text/plain": [
       "         bedrooms  bathrooms    area  tax_value  year_built  taxamount  fips\n",
       "1901200         2        2.0  1205.0   0.372953        1941   0.422635  6037\n",
       "1786912         5        2.0  1586.0   0.201887        2004   0.298982  6037\n",
       "930919          2        1.0   860.0   0.223268        1952   0.258308  6037\n",
       "1805072         2        1.0  1125.0   0.660917        1948   0.786753  6037\n",
       "1775847         3        2.5  1731.0   0.559436        2002   0.550856  6111"
      ]
     },
     "execution_count": 48,
     "metadata": {},
     "output_type": "execute_result"
    }
   ],
   "source": [
    "# Resetting my train by dropping the scaled columns\n",
    "train = train[['bedrooms','bathrooms','area','tax_value','year_built','taxamount','fips']]\n",
    "train.head()"
   ]
  },
  {
   "cell_type": "code",
   "execution_count": null,
   "id": "bd7455cf",
   "metadata": {},
   "outputs": [],
   "source": [
    "# storing numerical columns\n",
    "num_cols = ['area', 'tax_value', 'bathrooms', 'bedrooms', 'year_built']\n",
    "columns = train.columns\n",
    "for col in columns:\n",
    "    if col in num_cols:\n",
    "        print(col.upper())\n",
    "        plt.hist(train[col])\n",
    "        print('----------------------------------------------------')\n",
    "        print()\n",
    "    else:\n",
    "        continue"
   ]
  },
  {
   "cell_type": "code",
   "execution_count": 34,
   "id": "9af3bf55",
   "metadata": {},
   "outputs": [
    {
     "data": {
      "text/plain": [
       "array([[0.42263467, 0.37295329],\n",
       "       [0.29898199, 0.20188702],\n",
       "       [0.25830779, 0.22326846],\n",
       "       ...,\n",
       "       [0.68662511, 0.60765702],\n",
       "       [0.39444243, 0.35246152],\n",
       "       [0.39277759, 0.35025628]])"
      ]
     },
     "execution_count": 34,
     "metadata": {},
     "output_type": "execute_result"
    }
   ],
   "source": [
    "# Scaling with Min-Max Scaler\n",
    "scaler = sklearn.preprocessing.MinMaxScaler()\n",
    "scaled = scaler.fit_transform(train[['taxamount', 'tax_value']])\n",
    "scaled"
   ]
  },
  {
   "cell_type": "code",
   "execution_count": 35,
   "id": "4de5ec87",
   "metadata": {},
   "outputs": [
    {
     "data": {
      "text/html": [
       "<div>\n",
       "<style scoped>\n",
       "    .dataframe tbody tr th:only-of-type {\n",
       "        vertical-align: middle;\n",
       "    }\n",
       "\n",
       "    .dataframe tbody tr th {\n",
       "        vertical-align: top;\n",
       "    }\n",
       "\n",
       "    .dataframe thead th {\n",
       "        text-align: right;\n",
       "    }\n",
       "</style>\n",
       "<table border=\"1\" class=\"dataframe\">\n",
       "  <thead>\n",
       "    <tr style=\"text-align: right;\">\n",
       "      <th></th>\n",
       "      <th>taxamount</th>\n",
       "      <th>tax_value</th>\n",
       "    </tr>\n",
       "  </thead>\n",
       "  <tbody>\n",
       "    <tr>\n",
       "      <th>1901200</th>\n",
       "      <td>0.422635</td>\n",
       "      <td>0.372953</td>\n",
       "    </tr>\n",
       "    <tr>\n",
       "      <th>1786912</th>\n",
       "      <td>0.298982</td>\n",
       "      <td>0.201887</td>\n",
       "    </tr>\n",
       "    <tr>\n",
       "      <th>930919</th>\n",
       "      <td>0.258308</td>\n",
       "      <td>0.223268</td>\n",
       "    </tr>\n",
       "    <tr>\n",
       "      <th>1805072</th>\n",
       "      <td>0.786753</td>\n",
       "      <td>0.660917</td>\n",
       "    </tr>\n",
       "    <tr>\n",
       "      <th>1775847</th>\n",
       "      <td>0.550856</td>\n",
       "      <td>0.559436</td>\n",
       "    </tr>\n",
       "  </tbody>\n",
       "</table>\n",
       "</div>"
      ],
      "text/plain": [
       "         taxamount  tax_value\n",
       "1901200   0.422635   0.372953\n",
       "1786912   0.298982   0.201887\n",
       "930919    0.258308   0.223268\n",
       "1805072   0.786753   0.660917\n",
       "1775847   0.550856   0.559436"
      ]
     },
     "execution_count": 35,
     "metadata": {},
     "output_type": "execute_result"
    }
   ],
   "source": [
    "# Turning the scaled data into a new dataframe\n",
    "scaled_df = pd.DataFrame(scaled, index = train.index, columns = ['taxamount', 'tax_value'])\n",
    "scaled_df.head()"
   ]
  },
  {
   "cell_type": "code",
   "execution_count": 36,
   "id": "a73caca8",
   "metadata": {},
   "outputs": [
    {
     "data": {
      "text/plain": [
       "array([[  4395.55, 354670.  ],\n",
       "       [  3114.34, 192000.  ],\n",
       "       [  2692.9 , 212332.  ],\n",
       "       ...,\n",
       "       [  7130.85, 577854.  ],\n",
       "       [  4103.44, 335184.  ],\n",
       "       [  4086.19, 333087.  ]])"
      ]
     },
     "execution_count": 36,
     "metadata": {},
     "output_type": "execute_result"
    }
   ],
   "source": [
    "# Using the inverse function\n",
    "scaler.inverse_transform(scaled_df)"
   ]
  },
  {
   "cell_type": "code",
   "execution_count": 37,
   "id": "1b8b80eb",
   "metadata": {},
   "outputs": [
    {
     "data": {
      "text/html": [
       "<div>\n",
       "<style scoped>\n",
       "    .dataframe tbody tr th:only-of-type {\n",
       "        vertical-align: middle;\n",
       "    }\n",
       "\n",
       "    .dataframe tbody tr th {\n",
       "        vertical-align: top;\n",
       "    }\n",
       "\n",
       "    .dataframe thead th {\n",
       "        text-align: right;\n",
       "    }\n",
       "</style>\n",
       "<table border=\"1\" class=\"dataframe\">\n",
       "  <thead>\n",
       "    <tr style=\"text-align: right;\">\n",
       "      <th></th>\n",
       "      <th>taxamount</th>\n",
       "      <th>tax_value</th>\n",
       "    </tr>\n",
       "  </thead>\n",
       "  <tbody>\n",
       "    <tr>\n",
       "      <th>1901200</th>\n",
       "      <td>4395.55</td>\n",
       "      <td>354670.0</td>\n",
       "    </tr>\n",
       "    <tr>\n",
       "      <th>1786912</th>\n",
       "      <td>3114.34</td>\n",
       "      <td>192000.0</td>\n",
       "    </tr>\n",
       "    <tr>\n",
       "      <th>930919</th>\n",
       "      <td>2692.90</td>\n",
       "      <td>212332.0</td>\n",
       "    </tr>\n",
       "    <tr>\n",
       "      <th>1805072</th>\n",
       "      <td>8168.31</td>\n",
       "      <td>628500.0</td>\n",
       "    </tr>\n",
       "    <tr>\n",
       "      <th>1775847</th>\n",
       "      <td>5724.10</td>\n",
       "      <td>532000.0</td>\n",
       "    </tr>\n",
       "  </tbody>\n",
       "</table>\n",
       "</div>"
      ],
      "text/plain": [
       "         taxamount  tax_value\n",
       "1901200    4395.55   354670.0\n",
       "1786912    3114.34   192000.0\n",
       "930919     2692.90   212332.0\n",
       "1805072    8168.31   628500.0\n",
       "1775847    5724.10   532000.0"
      ]
     },
     "execution_count": 37,
     "metadata": {},
     "output_type": "execute_result"
    }
   ],
   "source": [
    "# Looks like the inverse function spat out an array. I want to see the values as a dataframe so I'll make that change\n",
    "unscaled_df = pd.DataFrame(scaler.inverse_transform(scaled), index = train.index, columns = ['taxamount', 'tax_value'])\n",
    "unscaled_df.head()\n",
    "\n",
    "# Comparing the tax amount here, to the taxamount in the refreshed train shows that the values scaled and inverse\n",
    "# scaled without changing the values. I expected some rounding to change things but that does not seem to be the case!"
   ]
  },
  {
   "cell_type": "markdown",
   "id": "850da7cd",
   "metadata": {},
   "source": [
    "# 3. Read the documentation for sklearn's QuantileTransformer. Use normal for the output_distribution and apply this scaler to your data. Visualize the result of your data scaling.\n"
   ]
  },
  {
   "cell_type": "code",
   "execution_count": 38,
   "id": "8758d326",
   "metadata": {},
   "outputs": [
    {
     "data": {
      "image/png": "[encoded data removed]",
      "text/plain": [
       "<Figure size 936x432 with 2 Axes>"
      ]
     },
     "metadata": {
      "needs_background": "light"
     },
     "output_type": "display_data"
    }
   ],
   "source": [
    "# 1. Create the object\n",
    "scaler = sklearn.preprocessing.QuantileTransformer(output_distribution='normal')\n",
    "\n",
    "# 2. Fit the object\n",
    "scaler.fit(train[['tax_value']])\n",
    "\n",
    "# 3. Use the object\n",
    "train['tax_value_scaled'] = scaler.transform(train[['tax_value']])\n",
    "\n",
    "\n",
    "# Plot the scaled and unscaled distribution\n",
    "# Oh wow! The distribution did NOT remain the same, and the scale of the x axis has changed as well.\n",
    "plt.figure(figsize=(13, 6))\n",
    "plt.subplot(121)\n",
    "train.tax_value.plot.hist(title='Original')\n",
    "plt.subplot(122)\n",
    "train.tax_value_scaled.plot.hist(title='Quantile Transformed to Normal');"
   ]
  },
  {
   "cell_type": "markdown",
   "id": "92c05f94",
   "metadata": {},
   "source": [
    "# 4. Use the QuantileTransformer, but omit the output_distribution argument. Visualize your results. What do you notice?\n"
   ]
  },
  {
   "cell_type": "code",
   "execution_count": 39,
   "id": "e825edde",
   "metadata": {},
   "outputs": [
    {
     "data": {
      "image/png": "[encoded data removed]",
      "text/plain": [
       "<Figure size 936x432 with 2 Axes>"
      ]
     },
     "metadata": {
      "needs_background": "light"
     },
     "output_type": "display_data"
    }
   ],
   "source": [
    "# 1. Create the object\n",
    "scaler = sklearn.preprocessing.QuantileTransformer()\n",
    "\n",
    "# 2. Fit the object\n",
    "scaler.fit(train[['tax_value']])\n",
    "\n",
    "# 3. Use the object\n",
    "train['tax_value_scaled'] = scaler.transform(train[['tax_value']])\n",
    "\n",
    "\n",
    "# Plot the scaled and unscaled distribution.\n",
    "# Wow! I'm not sure what's goin on here, but I don't think this scaling would be very helpful\n",
    "plt.figure(figsize=(13, 6))\n",
    "plt.subplot(121)\n",
    "train.tax_value.plot.hist(title='Original')\n",
    "plt.subplot(122)\n",
    "train.tax_value_scaled.plot.hist(title='Quantile Transformed to Normal');"
   ]
  },
  {
   "cell_type": "markdown",
   "id": "4acfb502",
   "metadata": {},
   "source": [
    "# 5. Based on the work you've done, choose a scaling method for your dataset. Write a function within your prepare.py that accepts as input the train, validate, and test data splits, and returns the scaled versions of each. Be sure to only learn the parameters for scaling from your training data!"
   ]
  },
  {
   "cell_type": "code",
   "execution_count": 40,
   "id": "85cf6ea0",
   "metadata": {},
   "outputs": [
    {
     "data": {
      "image/png": "[encoded data removed]",
      "text/plain": [
       "<Figure size 936x432 with 2 Axes>"
      ]
     },
     "metadata": {
      "needs_background": "light"
     },
     "output_type": "display_data"
    }
   ],
   "source": [
    "# I think I like min-max scaler the most, but I want to see both taxamount and tax_value one more time\n",
    "\n",
    "# 1. Create the object\n",
    "scaler = sklearn.preprocessing.MinMaxScaler()\n",
    "\n",
    "# 2. Fit the object (learn the min and max value)\n",
    "scaler.fit(train[['taxamount', 'tax_value']])\n",
    "\n",
    "# 3. Use the object (use the min, max to do the transformation)\n",
    "scaled_taxes = scaler.transform(train[['taxamount', 'tax_value']])\n",
    "\n",
    "# 4. Create a dataframe from the scaled values\n",
    "pd.DataFrame(scaled_taxes, index = train.index,\n",
    "             columns = ['scaled_taxamount', 'scaled_tax_value'])\n",
    "\n",
    "# 5. Assign the scaled values as new columns in the train\n",
    "train[['scaled_taxamount', 'scaled_tax_value']] = scaled_taxes\n",
    "\n",
    "# Visualize the un-scaled and scaled distribution for taxamount\n",
    "# Notice that the distribution remains the same, but the scale of the x axis has changed!\n",
    "plt.figure(figsize=(13, 6))\n",
    "\n",
    "# subplot 1\n",
    "plt.subplot(121)\n",
    "train.taxamount.plot.hist(title='Original')\n",
    "\n",
    "#subplot 2\n",
    "plt.subplot(122)\n",
    "train.scaled_taxamount.plot.hist(title='taxamount Min-Max Scaled');"
   ]
  },
  {
   "cell_type": "code",
   "execution_count": 41,
   "id": "972d6d20",
   "metadata": {},
   "outputs": [
    {
     "data": {
      "image/png": "[encoded data removed]",
      "text/plain": [
       "<Figure size 936x432 with 2 Axes>"
      ]
     },
     "metadata": {
      "needs_background": "light"
     },
     "output_type": "display_data"
    }
   ],
   "source": [
    "# Visualize the un-scaled and scaled distribution for taxvalue\n",
    "# Notice that the distribution remains the same, but the scale of the x axis has changed!\n",
    "plt.figure(figsize=(13, 6))\n",
    "\n",
    "# subplot 1\n",
    "plt.subplot(121)\n",
    "train.tax_value.plot.hist(title='Original')\n",
    "\n",
    "#subplot 2\n",
    "plt.subplot(122)\n",
    "train.scaled_tax_value.plot.hist(title='tax_value Min-Max Scaled');"
   ]
  },
  {
   "cell_type": "code",
   "execution_count": 42,
   "id": "08675b31",
   "metadata": {},
   "outputs": [],
   "source": [
    "def Min_Max_Scaler(train, validate, test):\n",
    "    \"\"\"\n",
    "    Takes in the pre-split data and uses train to fit the scaler. The scaler is then applied to all dataframes and \n",
    "    the dataframes are returned in thier scaled form.\n",
    "    \"\"\"\n",
    "    # 1. Create the object\n",
    "    scaler = sklearn.preprocessing.MinMaxScaler()\n",
    "\n",
    "    # 2. Fit the object (learn the min and max value)\n",
    "    scaler.fit(train[['taxamount', 'tax_value']])\n",
    "\n",
    "    # 3. Use the object (use the min, max to do the transformation)\n",
    "    train[['taxamount', 'tax_value']] = scaler.transform(train[['taxamount', 'tax_value']])\n",
    "    test[['taxamount', 'tax_value']] = scaler.transform(test[['taxamount', 'tax_value']])\n",
    "    validate[['taxamount', 'tax_value']] = scaler.transform(validate[['taxamount', 'tax_value']])\n",
    "    \n",
    "    return train, validate, test"
   ]
  },
  {
   "cell_type": "code",
   "execution_count": 43,
   "id": "6ce5972f",
   "metadata": {},
   "outputs": [
    {
     "data": {
      "text/html": [
       "<div>\n",
       "<style scoped>\n",
       "    .dataframe tbody tr th:only-of-type {\n",
       "        vertical-align: middle;\n",
       "    }\n",
       "\n",
       "    .dataframe tbody tr th {\n",
       "        vertical-align: top;\n",
       "    }\n",
       "\n",
       "    .dataframe thead th {\n",
       "        text-align: right;\n",
       "    }\n",
       "</style>\n",
       "<table border=\"1\" class=\"dataframe\">\n",
       "  <thead>\n",
       "    <tr style=\"text-align: right;\">\n",
       "      <th></th>\n",
       "      <th>bedrooms</th>\n",
       "      <th>bathrooms</th>\n",
       "      <th>area</th>\n",
       "      <th>tax_value</th>\n",
       "      <th>year_built</th>\n",
       "      <th>taxamount</th>\n",
       "      <th>fips</th>\n",
       "    </tr>\n",
       "  </thead>\n",
       "  <tbody>\n",
       "    <tr>\n",
       "      <th>1901200</th>\n",
       "      <td>2</td>\n",
       "      <td>2.0</td>\n",
       "      <td>1205.0</td>\n",
       "      <td>354670.0</td>\n",
       "      <td>1941</td>\n",
       "      <td>4395.55</td>\n",
       "      <td>6037</td>\n",
       "    </tr>\n",
       "    <tr>\n",
       "      <th>1786912</th>\n",
       "      <td>5</td>\n",
       "      <td>2.0</td>\n",
       "      <td>1586.0</td>\n",
       "      <td>192000.0</td>\n",
       "      <td>2004</td>\n",
       "      <td>3114.34</td>\n",
       "      <td>6037</td>\n",
       "    </tr>\n",
       "    <tr>\n",
       "      <th>930919</th>\n",
       "      <td>2</td>\n",
       "      <td>1.0</td>\n",
       "      <td>860.0</td>\n",
       "      <td>212332.0</td>\n",
       "      <td>1952</td>\n",
       "      <td>2692.90</td>\n",
       "      <td>6037</td>\n",
       "    </tr>\n",
       "    <tr>\n",
       "      <th>1805072</th>\n",
       "      <td>2</td>\n",
       "      <td>1.0</td>\n",
       "      <td>1125.0</td>\n",
       "      <td>628500.0</td>\n",
       "      <td>1948</td>\n",
       "      <td>8168.31</td>\n",
       "      <td>6037</td>\n",
       "    </tr>\n",
       "    <tr>\n",
       "      <th>1775847</th>\n",
       "      <td>3</td>\n",
       "      <td>2.5</td>\n",
       "      <td>1731.0</td>\n",
       "      <td>532000.0</td>\n",
       "      <td>2002</td>\n",
       "      <td>5724.10</td>\n",
       "      <td>6111</td>\n",
       "    </tr>\n",
       "  </tbody>\n",
       "</table>\n",
       "</div>"
      ],
      "text/plain": [
       "         bedrooms  bathrooms    area  tax_value  year_built  taxamount  fips\n",
       "1901200         2        2.0  1205.0   354670.0        1941    4395.55  6037\n",
       "1786912         5        2.0  1586.0   192000.0        2004    3114.34  6037\n",
       "930919          2        1.0   860.0   212332.0        1952    2692.90  6037\n",
       "1805072         2        1.0  1125.0   628500.0        1948    8168.31  6037\n",
       "1775847         3        2.5  1731.0   532000.0        2002    5724.10  6111"
      ]
     },
     "execution_count": 43,
     "metadata": {},
     "output_type": "execute_result"
    }
   ],
   "source": [
    "# Resetting my train by dropping the scaled columns\n",
    "train = train[['bedrooms','bathrooms','area','tax_value','year_built','taxamount','fips']]\n",
    "train.head()"
   ]
  },
  {
   "cell_type": "code",
   "execution_count": 44,
   "id": "c3acc220",
   "metadata": {},
   "outputs": [
    {
     "data": {
      "text/html": [
       "<div>\n",
       "<style scoped>\n",
       "    .dataframe tbody tr th:only-of-type {\n",
       "        vertical-align: middle;\n",
       "    }\n",
       "\n",
       "    .dataframe tbody tr th {\n",
       "        vertical-align: top;\n",
       "    }\n",
       "\n",
       "    .dataframe thead th {\n",
       "        text-align: right;\n",
       "    }\n",
       "</style>\n",
       "<table border=\"1\" class=\"dataframe\">\n",
       "  <thead>\n",
       "    <tr style=\"text-align: right;\">\n",
       "      <th></th>\n",
       "      <th>bedrooms</th>\n",
       "      <th>bathrooms</th>\n",
       "      <th>area</th>\n",
       "      <th>tax_value</th>\n",
       "      <th>year_built</th>\n",
       "      <th>taxamount</th>\n",
       "      <th>fips</th>\n",
       "    </tr>\n",
       "  </thead>\n",
       "  <tbody>\n",
       "    <tr>\n",
       "      <th>1901200</th>\n",
       "      <td>2</td>\n",
       "      <td>2.0</td>\n",
       "      <td>1205.0</td>\n",
       "      <td>0.372953</td>\n",
       "      <td>1941</td>\n",
       "      <td>0.422635</td>\n",
       "      <td>6037</td>\n",
       "    </tr>\n",
       "    <tr>\n",
       "      <th>1786912</th>\n",
       "      <td>5</td>\n",
       "      <td>2.0</td>\n",
       "      <td>1586.0</td>\n",
       "      <td>0.201887</td>\n",
       "      <td>2004</td>\n",
       "      <td>0.298982</td>\n",
       "      <td>6037</td>\n",
       "    </tr>\n",
       "    <tr>\n",
       "      <th>930919</th>\n",
       "      <td>2</td>\n",
       "      <td>1.0</td>\n",
       "      <td>860.0</td>\n",
       "      <td>0.223268</td>\n",
       "      <td>1952</td>\n",
       "      <td>0.258308</td>\n",
       "      <td>6037</td>\n",
       "    </tr>\n",
       "    <tr>\n",
       "      <th>1805072</th>\n",
       "      <td>2</td>\n",
       "      <td>1.0</td>\n",
       "      <td>1125.0</td>\n",
       "      <td>0.660917</td>\n",
       "      <td>1948</td>\n",
       "      <td>0.786753</td>\n",
       "      <td>6037</td>\n",
       "    </tr>\n",
       "    <tr>\n",
       "      <th>1775847</th>\n",
       "      <td>3</td>\n",
       "      <td>2.5</td>\n",
       "      <td>1731.0</td>\n",
       "      <td>0.559436</td>\n",
       "      <td>2002</td>\n",
       "      <td>0.550856</td>\n",
       "      <td>6111</td>\n",
       "    </tr>\n",
       "  </tbody>\n",
       "</table>\n",
       "</div>"
      ],
      "text/plain": [
       "         bedrooms  bathrooms    area  tax_value  year_built  taxamount  fips\n",
       "1901200         2        2.0  1205.0   0.372953        1941   0.422635  6037\n",
       "1786912         5        2.0  1586.0   0.201887        2004   0.298982  6037\n",
       "930919          2        1.0   860.0   0.223268        1952   0.258308  6037\n",
       "1805072         2        1.0  1125.0   0.660917        1948   0.786753  6037\n",
       "1775847         3        2.5  1731.0   0.559436        2002   0.550856  6111"
      ]
     },
     "execution_count": 44,
     "metadata": {},
     "output_type": "execute_result"
    }
   ],
   "source": [
    "# Checking to see if it works\n",
    "train, validate, test = Min_Max_Scaler(train, validate, test)\n",
    "\n",
    "train.head()"
   ]
  },
  {
   "cell_type": "code",
   "execution_count": 45,
   "id": "6b7c5a55",
   "metadata": {},
   "outputs": [],
   "source": [
    "# Assigning my features to X, and target variable to y, for each split dataframe\n",
    "\n",
    "X_train = train.drop(columns=['tax_value'])\n",
    "y_train = train.tax_value\n",
    "\n",
    "X_validate = validate.drop(columns=['tax_value'])\n",
    "y_validate = validate.tax_value\n",
    "\n",
    "X_test = test.drop(columns=['tax_value'])\n",
    "y_test = test.tax_value"
   ]
  },
  {
   "cell_type": "code",
   "execution_count": 46,
   "id": "c54c25bb",
   "metadata": {},
   "outputs": [
    {
     "data": {
      "text/html": [
       "<div>\n",
       "<style scoped>\n",
       "    .dataframe tbody tr th:only-of-type {\n",
       "        vertical-align: middle;\n",
       "    }\n",
       "\n",
       "    .dataframe tbody tr th {\n",
       "        vertical-align: top;\n",
       "    }\n",
       "\n",
       "    .dataframe thead th {\n",
       "        text-align: right;\n",
       "    }\n",
       "</style>\n",
       "<table border=\"1\" class=\"dataframe\">\n",
       "  <thead>\n",
       "    <tr style=\"text-align: right;\">\n",
       "      <th></th>\n",
       "      <th>bedrooms</th>\n",
       "      <th>bathrooms</th>\n",
       "      <th>area</th>\n",
       "      <th>year_built</th>\n",
       "      <th>taxamount</th>\n",
       "      <th>fips</th>\n",
       "    </tr>\n",
       "  </thead>\n",
       "  <tbody>\n",
       "    <tr>\n",
       "      <th>1901200</th>\n",
       "      <td>2</td>\n",
       "      <td>2.0</td>\n",
       "      <td>1205.0</td>\n",
       "      <td>1941</td>\n",
       "      <td>0.422635</td>\n",
       "      <td>6037</td>\n",
       "    </tr>\n",
       "    <tr>\n",
       "      <th>1786912</th>\n",
       "      <td>5</td>\n",
       "      <td>2.0</td>\n",
       "      <td>1586.0</td>\n",
       "      <td>2004</td>\n",
       "      <td>0.298982</td>\n",
       "      <td>6037</td>\n",
       "    </tr>\n",
       "    <tr>\n",
       "      <th>930919</th>\n",
       "      <td>2</td>\n",
       "      <td>1.0</td>\n",
       "      <td>860.0</td>\n",
       "      <td>1952</td>\n",
       "      <td>0.258308</td>\n",
       "      <td>6037</td>\n",
       "    </tr>\n",
       "    <tr>\n",
       "      <th>1805072</th>\n",
       "      <td>2</td>\n",
       "      <td>1.0</td>\n",
       "      <td>1125.0</td>\n",
       "      <td>1948</td>\n",
       "      <td>0.786753</td>\n",
       "      <td>6037</td>\n",
       "    </tr>\n",
       "    <tr>\n",
       "      <th>1775847</th>\n",
       "      <td>3</td>\n",
       "      <td>2.5</td>\n",
       "      <td>1731.0</td>\n",
       "      <td>2002</td>\n",
       "      <td>0.550856</td>\n",
       "      <td>6111</td>\n",
       "    </tr>\n",
       "  </tbody>\n",
       "</table>\n",
       "</div>"
      ],
      "text/plain": [
       "         bedrooms  bathrooms    area  year_built  taxamount  fips\n",
       "1901200         2        2.0  1205.0        1941   0.422635  6037\n",
       "1786912         5        2.0  1586.0        2004   0.298982  6037\n",
       "930919          2        1.0   860.0        1952   0.258308  6037\n",
       "1805072         2        1.0  1125.0        1948   0.786753  6037\n",
       "1775847         3        2.5  1731.0        2002   0.550856  6111"
      ]
     },
     "execution_count": 46,
     "metadata": {},
     "output_type": "execute_result"
    }
   ],
   "source": [
    "X_train.head()"
   ]
  },
  {
   "cell_type": "code",
   "execution_count": null,
   "id": "2b2a30f1",
   "metadata": {},
   "outputs": [],
   "source": []
  },
  {
   "cell_type": "code",
   "execution_count": 47,
   "id": "84e77f90",
   "metadata": {},
   "outputs": [],
   "source": [
    "# Instructor Solution I don't understand: \n",
    "\n",
    "def Min_Max_Scaler(X_train, X_validate, X_test):\n",
    "    \"\"\"\n",
    "    Takes in X_train, X_validate and X_test dfs with numeric values only\n",
    "    Returns scaler, X_train_scaled, X_validate_scaled, X_test_scaled dfs \n",
    "    \"\"\"\n",
    "    # Create the and fit the object (learn and use the min, max to do the transformation)\n",
    "    scaler = sklearn.preprocessing.MinMaxScaler().fit(X_train)\n",
    "    \n",
    "    # Create a dataframes from the scaled values\n",
    "    X_train_scaled = pd.DataFrame(scaler.transform(X_train), index = X_train.index, columns = X_train.columns)\n",
    "    X_validate_scaled = pd.DataFrame(scaler.transform(X_validate), index = X_validate.index, columns = X_validate.columns)\n",
    "    X_test_scaled = pd.DataFrame(scaler.transform(X_test), index = X_test.index, columns = X_test.columns)\n",
    "    \n",
    "    return scaler, X_train_scaled, X_validate_scaled, X_test_scaled"
   ]
  }
 ],
 "metadata": {
  "kernelspec": {
   "display_name": "Python 3",
   "language": "python",
   "name": "python3"
  },
  "language_info": {
   "codemirror_mode": {
    "name": "ipython",
    "version": 3
   },
   "file_extension": ".py",
   "mimetype": "text/x-python",
   "name": "python",
   "nbconvert_exporter": "python",
   "pygments_lexer": "ipython3",
   "version": "3.8.8"
  }
 },
 "nbformat": 4,
 "nbformat_minor": 5
}
