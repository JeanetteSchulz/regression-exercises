{
 "cells": [
  {
   "cell_type": "code",
   "execution_count": 1,
   "id": "f84e7ccf",
   "metadata": {},
   "outputs": [],
   "source": [
    "# Basic Libraries Needed\n",
    "import pandas as pd\n",
    "import matplotlib.pyplot as plt\n",
    "import seaborn as sns\n",
    "import numpy as np\n",
    "from env import host, user, password\n",
    "import os\n",
    "\n",
    "from sklearn.model_selection import train_test_split\n",
    "\n",
    "import wrangle\n",
    "\n",
    "# Remove the angry pink boxes\n",
    "import warnings\n",
    "warnings.filterwarnings(\"ignore\")\n"
   ]
  },
  {
   "cell_type": "markdown",
   "id": "8c3748e3",
   "metadata": {},
   "source": [
    "1. Acquire `bedroomcnt`, `bathroomcnt`, `calculatedfinishedsquarefeet`, `taxvaluedollarcnt`, `yearbuilt`, `taxamount`, and `fips` from the zillow database for all 'Single Family Residential' properties.\n"
   ]
  },
  {
   "cell_type": "code",
   "execution_count": 2,
   "id": "ee902f83",
   "metadata": {},
   "outputs": [],
   "source": [
    "def get_connection(database_name):\n",
    "    '''\n",
    "    This function takes in a string representing a database name for the Codeup mySQL server \n",
    "    and returns a string that can be used to open a connection to the server.\n",
    "    '''\n",
    "    return f'mysql+pymysql://{user}:{password}@{host}/{database_name}'\n"
   ]
  },
  {
   "cell_type": "code",
   "execution_count": 3,
   "id": "4121dda5",
   "metadata": {},
   "outputs": [],
   "source": [
    "def get_zillow_data():\n",
    "    '''\n",
    "    This function reads the Zillow database from the Codeup mySQL server and  returns a dataframe.\n",
    "    If a local file does not exist, this function writes data to a csv file as a backup. The local file \n",
    "    ensures that data can be accessed, in the event that you cannot talk to the mySQL database. \n",
    "    '''\n",
    "    # The filename will have 2017 at the end to represent that the only data being looked at is \n",
    "    # properties from the year 2017\n",
    "    if os.path.isfile('zillow2017.csv'):\n",
    "        # If csv file exists read in data from csv file.\n",
    "        df = pd.read_csv('zillow2017.csv', index_col=0)\n",
    "        \n",
    "    else:\n",
    "        \n",
    "        # Read fresh data from database into a DataFrame\n",
    "        # property land use type id is limited to 'Single Family Residential' properties.\n",
    "        df =  pd.read_sql(\"\"\" SELECT bedroomcnt, \n",
    "                                     bathroomcnt, \n",
    "                                     calculatedfinishedsquarefeet, \n",
    "                                     taxvaluedollarcnt, \n",
    "                                     yearbuilt, \n",
    "                                     taxamount, \n",
    "                                     fips\n",
    "                              FROM properties_2017\n",
    "                              WHERE propertylandusetypeid = 261;\"\"\", \n",
    "                            get_connection('zillow')\n",
    "                        )\n",
    "        # Cache data into a csv backup\n",
    "        df.to_csv('zillow2017.csv')\n",
    "    \n",
    "    # Renaming column names to one's I like better\n",
    "    df = df.rename(columns = {'bedroomcnt':'bedrooms', \n",
    "                          'bathroomcnt':'bathrooms', \n",
    "                          'calculatedfinishedsquarefeet':'area',\n",
    "                          'taxvaluedollarcnt':'tax_value', \n",
    "                          'yearbuilt':'year_built'})   \n",
    "    return df"
   ]
  },
  {
   "cell_type": "markdown",
   "id": "a64227db",
   "metadata": {},
   "source": [
    "#### I will not add inferred family housing cause there is only one row full of nulls"
   ]
  },
  {
   "cell_type": "code",
   "execution_count": 4,
   "id": "50a0bfc5",
   "metadata": {},
   "outputs": [
    {
     "data": {
      "text/html": [
       "<div>\n",
       "<style scoped>\n",
       "    .dataframe tbody tr th:only-of-type {\n",
       "        vertical-align: middle;\n",
       "    }\n",
       "\n",
       "    .dataframe tbody tr th {\n",
       "        vertical-align: top;\n",
       "    }\n",
       "\n",
       "    .dataframe thead th {\n",
       "        text-align: right;\n",
       "    }\n",
       "</style>\n",
       "<table border=\"1\" class=\"dataframe\">\n",
       "  <thead>\n",
       "    <tr style=\"text-align: right;\">\n",
       "      <th></th>\n",
       "      <th>bedrooms</th>\n",
       "      <th>bathrooms</th>\n",
       "      <th>area</th>\n",
       "      <th>tax_value</th>\n",
       "      <th>year_built</th>\n",
       "      <th>taxamount</th>\n",
       "      <th>fips</th>\n",
       "    </tr>\n",
       "  </thead>\n",
       "  <tbody>\n",
       "    <tr>\n",
       "      <th>0</th>\n",
       "      <td>0.0</td>\n",
       "      <td>0.0</td>\n",
       "      <td>NaN</td>\n",
       "      <td>27516.0</td>\n",
       "      <td>NaN</td>\n",
       "      <td>NaN</td>\n",
       "      <td>6037.0</td>\n",
       "    </tr>\n",
       "    <tr>\n",
       "      <th>1</th>\n",
       "      <td>0.0</td>\n",
       "      <td>0.0</td>\n",
       "      <td>NaN</td>\n",
       "      <td>10.0</td>\n",
       "      <td>NaN</td>\n",
       "      <td>NaN</td>\n",
       "      <td>6037.0</td>\n",
       "    </tr>\n",
       "    <tr>\n",
       "      <th>2</th>\n",
       "      <td>0.0</td>\n",
       "      <td>0.0</td>\n",
       "      <td>NaN</td>\n",
       "      <td>10.0</td>\n",
       "      <td>NaN</td>\n",
       "      <td>NaN</td>\n",
       "      <td>6037.0</td>\n",
       "    </tr>\n",
       "    <tr>\n",
       "      <th>3</th>\n",
       "      <td>0.0</td>\n",
       "      <td>0.0</td>\n",
       "      <td>NaN</td>\n",
       "      <td>2108.0</td>\n",
       "      <td>NaN</td>\n",
       "      <td>174.21</td>\n",
       "      <td>6037.0</td>\n",
       "    </tr>\n",
       "    <tr>\n",
       "      <th>4</th>\n",
       "      <td>4.0</td>\n",
       "      <td>2.0</td>\n",
       "      <td>3633.0</td>\n",
       "      <td>296425.0</td>\n",
       "      <td>2005.0</td>\n",
       "      <td>6941.39</td>\n",
       "      <td>6037.0</td>\n",
       "    </tr>\n",
       "  </tbody>\n",
       "</table>\n",
       "</div>"
      ],
      "text/plain": [
       "   bedrooms  bathrooms    area  tax_value  year_built  taxamount    fips\n",
       "0       0.0        0.0     NaN    27516.0         NaN        NaN  6037.0\n",
       "1       0.0        0.0     NaN       10.0         NaN        NaN  6037.0\n",
       "2       0.0        0.0     NaN       10.0         NaN        NaN  6037.0\n",
       "3       0.0        0.0     NaN     2108.0         NaN     174.21  6037.0\n",
       "4       4.0        2.0  3633.0   296425.0      2005.0    6941.39  6037.0"
      ]
     },
     "execution_count": 4,
     "metadata": {},
     "output_type": "execute_result"
    }
   ],
   "source": [
    "zillow = get_zillow_data()\n",
    "zillow.head()"
   ]
  },
  {
   "cell_type": "markdown",
   "id": "e1f07218",
   "metadata": {},
   "source": [
    "2. Using your acquired Zillow data, walk through the summarization and cleaning steps in your wrangle.ipynb file like we did above. You may handle the missing values however you feel is appropriate and meaninful; remember to document your process and decisions using markdown and code commenting where helpful.\n"
   ]
  },
  {
   "cell_type": "code",
   "execution_count": 5,
   "id": "5d50eb18",
   "metadata": {},
   "outputs": [
    {
     "data": {
      "text/plain": [
       "(2152863, 7)"
      ]
     },
     "execution_count": 5,
     "metadata": {},
     "output_type": "execute_result"
    }
   ],
   "source": [
    "zillow.shape"
   ]
  },
  {
   "cell_type": "code",
   "execution_count": 6,
   "id": "bb144782",
   "metadata": {},
   "outputs": [
    {
     "data": {
      "text/html": [
       "<div>\n",
       "<style scoped>\n",
       "    .dataframe tbody tr th:only-of-type {\n",
       "        vertical-align: middle;\n",
       "    }\n",
       "\n",
       "    .dataframe tbody tr th {\n",
       "        vertical-align: top;\n",
       "    }\n",
       "\n",
       "    .dataframe thead th {\n",
       "        text-align: right;\n",
       "    }\n",
       "</style>\n",
       "<table border=\"1\" class=\"dataframe\">\n",
       "  <thead>\n",
       "    <tr style=\"text-align: right;\">\n",
       "      <th></th>\n",
       "      <th>bedrooms</th>\n",
       "      <th>bathrooms</th>\n",
       "      <th>area</th>\n",
       "      <th>tax_value</th>\n",
       "      <th>year_built</th>\n",
       "      <th>taxamount</th>\n",
       "      <th>fips</th>\n",
       "    </tr>\n",
       "  </thead>\n",
       "  <tbody>\n",
       "    <tr>\n",
       "      <th>count</th>\n",
       "      <td>2.152852e+06</td>\n",
       "      <td>2.152852e+06</td>\n",
       "      <td>2.144379e+06</td>\n",
       "      <td>2.152370e+06</td>\n",
       "      <td>2.143526e+06</td>\n",
       "      <td>2.148421e+06</td>\n",
       "      <td>2.152863e+06</td>\n",
       "    </tr>\n",
       "    <tr>\n",
       "      <th>mean</th>\n",
       "      <td>3.287196e+00</td>\n",
       "      <td>2.230688e+00</td>\n",
       "      <td>1.862855e+03</td>\n",
       "      <td>4.618962e+05</td>\n",
       "      <td>1.960950e+03</td>\n",
       "      <td>5.634866e+03</td>\n",
       "      <td>6.048377e+03</td>\n",
       "    </tr>\n",
       "    <tr>\n",
       "      <th>std</th>\n",
       "      <td>9.547544e-01</td>\n",
       "      <td>9.992796e-01</td>\n",
       "      <td>1.222125e+03</td>\n",
       "      <td>6.996760e+05</td>\n",
       "      <td>2.216220e+01</td>\n",
       "      <td>8.178910e+03</td>\n",
       "      <td>2.043329e+01</td>\n",
       "    </tr>\n",
       "    <tr>\n",
       "      <th>min</th>\n",
       "      <td>0.000000e+00</td>\n",
       "      <td>0.000000e+00</td>\n",
       "      <td>1.000000e+00</td>\n",
       "      <td>1.000000e+00</td>\n",
       "      <td>1.801000e+03</td>\n",
       "      <td>1.850000e+00</td>\n",
       "      <td>6.037000e+03</td>\n",
       "    </tr>\n",
       "    <tr>\n",
       "      <th>25%</th>\n",
       "      <td>3.000000e+00</td>\n",
       "      <td>2.000000e+00</td>\n",
       "      <td>1.257000e+03</td>\n",
       "      <td>1.881702e+05</td>\n",
       "      <td>1.949000e+03</td>\n",
       "      <td>2.534980e+03</td>\n",
       "      <td>6.037000e+03</td>\n",
       "    </tr>\n",
       "    <tr>\n",
       "      <th>50%</th>\n",
       "      <td>3.000000e+00</td>\n",
       "      <td>2.000000e+00</td>\n",
       "      <td>1.623000e+03</td>\n",
       "      <td>3.276710e+05</td>\n",
       "      <td>1.958000e+03</td>\n",
       "      <td>4.108950e+03</td>\n",
       "      <td>6.037000e+03</td>\n",
       "    </tr>\n",
       "    <tr>\n",
       "      <th>75%</th>\n",
       "      <td>4.000000e+00</td>\n",
       "      <td>3.000000e+00</td>\n",
       "      <td>2.208000e+03</td>\n",
       "      <td>5.345270e+05</td>\n",
       "      <td>1.976000e+03</td>\n",
       "      <td>6.414320e+03</td>\n",
       "      <td>6.059000e+03</td>\n",
       "    </tr>\n",
       "    <tr>\n",
       "      <th>max</th>\n",
       "      <td>2.500000e+01</td>\n",
       "      <td>3.200000e+01</td>\n",
       "      <td>9.525760e+05</td>\n",
       "      <td>9.842891e+07</td>\n",
       "      <td>2.016000e+03</td>\n",
       "      <td>1.337756e+06</td>\n",
       "      <td>6.111000e+03</td>\n",
       "    </tr>\n",
       "  </tbody>\n",
       "</table>\n",
       "</div>"
      ],
      "text/plain": [
       "           bedrooms     bathrooms          area     tax_value    year_built  \\\n",
       "count  2.152852e+06  2.152852e+06  2.144379e+06  2.152370e+06  2.143526e+06   \n",
       "mean   3.287196e+00  2.230688e+00  1.862855e+03  4.618962e+05  1.960950e+03   \n",
       "std    9.547544e-01  9.992796e-01  1.222125e+03  6.996760e+05  2.216220e+01   \n",
       "min    0.000000e+00  0.000000e+00  1.000000e+00  1.000000e+00  1.801000e+03   \n",
       "25%    3.000000e+00  2.000000e+00  1.257000e+03  1.881702e+05  1.949000e+03   \n",
       "50%    3.000000e+00  2.000000e+00  1.623000e+03  3.276710e+05  1.958000e+03   \n",
       "75%    4.000000e+00  3.000000e+00  2.208000e+03  5.345270e+05  1.976000e+03   \n",
       "max    2.500000e+01  3.200000e+01  9.525760e+05  9.842891e+07  2.016000e+03   \n",
       "\n",
       "          taxamount          fips  \n",
       "count  2.148421e+06  2.152863e+06  \n",
       "mean   5.634866e+03  6.048377e+03  \n",
       "std    8.178910e+03  2.043329e+01  \n",
       "min    1.850000e+00  6.037000e+03  \n",
       "25%    2.534980e+03  6.037000e+03  \n",
       "50%    4.108950e+03  6.037000e+03  \n",
       "75%    6.414320e+03  6.059000e+03  \n",
       "max    1.337756e+06  6.111000e+03  "
      ]
     },
     "execution_count": 6,
     "metadata": {},
     "output_type": "execute_result"
    }
   ],
   "source": [
    "# Average bedroom count is 3\n",
    "# Average bathroom count is 2\n",
    "zillow.describe()"
   ]
  },
  {
   "cell_type": "code",
   "execution_count": 7,
   "id": "d62b616b",
   "metadata": {},
   "outputs": [
    {
     "name": "stdout",
     "output_type": "stream",
     "text": [
      "<class 'pandas.core.frame.DataFrame'>\n",
      "Int64Index: 2152863 entries, 0 to 2152862\n",
      "Data columns (total 7 columns):\n",
      " #   Column      Non-Null Count    Dtype  \n",
      "---  ------      --------------    -----  \n",
      " 0   bedrooms    2152852 non-null  float64\n",
      " 1   bathrooms   2152852 non-null  float64\n",
      " 2   area        2144379 non-null  float64\n",
      " 3   tax_value   2152370 non-null  float64\n",
      " 4   year_built  2143526 non-null  float64\n",
      " 5   taxamount   2148421 non-null  float64\n",
      " 6   fips        2152863 non-null  float64\n",
      "dtypes: float64(7)\n",
      "memory usage: 131.4 MB\n"
     ]
    }
   ],
   "source": [
    "# Verbose and null_counts made true, because this dataset is a bit larger\n",
    "zillow.info(verbose=True, null_counts=True)"
   ]
  },
  {
   "cell_type": "code",
   "execution_count": 8,
   "id": "29bbd61f",
   "metadata": {},
   "outputs": [
    {
     "data": {
      "text/plain": [
       "bedrooms        11\n",
       "bathrooms       11\n",
       "area          8484\n",
       "tax_value      493\n",
       "year_built    9337\n",
       "taxamount     4442\n",
       "fips             0\n",
       "dtype: int64"
      ]
     },
     "execution_count": 8,
     "metadata": {},
     "output_type": "execute_result"
    }
   ],
   "source": [
    "# I know there are null values, but I don't know how many:\n",
    "zillow.isnull().sum()"
   ]
  },
  {
   "cell_type": "markdown",
   "id": "981ed96a",
   "metadata": {},
   "source": [
    "#### Null_Counts by Percentage  \n",
    "bedroomcnt                        0.000005%  \n",
    "bathroomcnt                       0.000005%  \n",
    "calculatedfinishedsquarefeet      0.0039%  \n",
    "taxvaluedollarcnt                 0.000229%  \n",
    "yearbuilt                         0.0043%  \n",
    "taxamount                         0.0021  \n",
    "fips                              0%  "
   ]
  },
  {
   "cell_type": "code",
   "execution_count": 9,
   "id": "e7c5a226",
   "metadata": {},
   "outputs": [
    {
     "data": {
      "text/plain": [
       "22778"
      ]
     },
     "execution_count": 9,
     "metadata": {},
     "output_type": "execute_result"
    }
   ],
   "source": [
    "# Total count of all Nulls is 1.06% of all data. \n",
    "# I think it would be safe to drop all nulls and not have it affect my data\n",
    "zillow.isnull().sum().sum()"
   ]
  },
  {
   "cell_type": "code",
   "execution_count": 10,
   "id": "03b885d4",
   "metadata": {},
   "outputs": [
    {
     "name": "stdout",
     "output_type": "stream",
     "text": [
      "(2152863, 7)\n",
      "(2140235, 7)\n"
     ]
    }
   ],
   "source": [
    "# These numbers don't add up, I better check again\n",
    "print(zillow.shape)\n",
    "zillow = zillow.dropna()\n",
    "print(zillow.shape)"
   ]
  },
  {
   "cell_type": "code",
   "execution_count": 11,
   "id": "150dde8b",
   "metadata": {},
   "outputs": [
    {
     "data": {
      "text/plain": [
       "bedrooms      0\n",
       "bathrooms     0\n",
       "area          0\n",
       "tax_value     0\n",
       "year_built    0\n",
       "taxamount     0\n",
       "fips          0\n",
       "dtype: int64"
      ]
     },
     "execution_count": 11,
     "metadata": {},
     "output_type": "execute_result"
    }
   ],
   "source": [
    "# Checking to make sure everything looks right\n",
    "zillow.isnull().sum()"
   ]
  },
  {
   "cell_type": "code",
   "execution_count": 12,
   "id": "bbb42a5e",
   "metadata": {},
   "outputs": [
    {
     "name": "stdout",
     "output_type": "stream",
     "text": [
      "<class 'pandas.core.frame.DataFrame'>\n",
      "Int64Index: 2140235 entries, 4 to 2152862\n",
      "Data columns (total 7 columns):\n",
      " #   Column      Non-Null Count    Dtype  \n",
      "---  ------      --------------    -----  \n",
      " 0   bedrooms    2140235 non-null  float64\n",
      " 1   bathrooms   2140235 non-null  float64\n",
      " 2   area        2140235 non-null  float64\n",
      " 3   tax_value   2140235 non-null  float64\n",
      " 4   year_built  2140235 non-null  float64\n",
      " 5   taxamount   2140235 non-null  float64\n",
      " 6   fips        2140235 non-null  float64\n",
      "dtypes: float64(7)\n",
      "memory usage: 130.6 MB\n"
     ]
    }
   ],
   "source": [
    "zillow.info(verbose=True, null_counts=True)"
   ]
  },
  {
   "cell_type": "markdown",
   "id": "fbfa8c3a",
   "metadata": {},
   "source": [
    "#### Notes:\n",
    "- I should probably change yearbuilt to an INT since years dont have decimals\n",
    "\n",
    "- Also, I googled fips because I didn't know what it was:  \n",
    "    - Federal Information Processing System (FIPS) Codes for States and Counties. \n",
    "    - FIPS codes are numbers which uniquely identify geographic areas.\n",
    "\n",
    "- It looks like fips are whole numbers, so I'll make that an int too!  \n",
    "- Bathrooms are known to have wierd numbers like 2.5 Bath, so float makes sense  \n",
    "- I'm not entirely sure a 2.5 Bedroom makes sense, but I'll leave that for now.  \n",
    "- Squarefeet can definitely have a decimal  \n",
    "- And tax dollars is money, so a float works just fine here\n"
   ]
  },
  {
   "cell_type": "code",
   "execution_count": 13,
   "id": "631f8fa1",
   "metadata": {},
   "outputs": [
    {
     "name": "stdout",
     "output_type": "stream",
     "text": [
      "<class 'pandas.core.frame.DataFrame'>\n",
      "Int64Index: 2140235 entries, 4 to 2152862\n",
      "Data columns (total 7 columns):\n",
      " #   Column      Dtype  \n",
      "---  ------      -----  \n",
      " 0   bedrooms    float64\n",
      " 1   bathrooms   float64\n",
      " 2   area        float64\n",
      " 3   tax_value   float64\n",
      " 4   year_built  int64  \n",
      " 5   taxamount   float64\n",
      " 6   fips        int64  \n",
      "dtypes: float64(5), int64(2)\n",
      "memory usage: 130.6 MB\n"
     ]
    }
   ],
   "source": [
    "zillow[\"year_built\"] = zillow.year_built.astype(int)\n",
    "zillow[\"fips\"] = zillow.fips.astype(int)\n",
    "zillow.info()"
   ]
  },
  {
   "cell_type": "code",
   "execution_count": 14,
   "id": "8d97e9dd",
   "metadata": {},
   "outputs": [
    {
     "data": {
      "text/plain": [
       "Series([], Name: bedrooms, dtype: float64)"
      ]
     },
     "execution_count": 14,
     "metadata": {},
     "output_type": "execute_result"
    }
   ],
   "source": [
    "# Rajaram is a realtor and says he's never seen a bedroom count represented as a decimal\n",
    "# I'm going to check and see if any of the bedroom counts utilize this decimal\n",
    "zillow.bedrooms[(zillow.bedrooms % 1) != 0]"
   ]
  },
  {
   "cell_type": "markdown",
   "id": "bf8b6bea",
   "metadata": {},
   "source": [
    "#### Since there are no bedroom counts with anything after the zero, I can safely turn this column into an INT as well"
   ]
  },
  {
   "cell_type": "code",
   "execution_count": 15,
   "id": "dd2e035a",
   "metadata": {},
   "outputs": [],
   "source": [
    "zillow[\"bedrooms\"] = zillow.bedrooms.astype(int)"
   ]
  },
  {
   "cell_type": "code",
   "execution_count": 16,
   "id": "e4cf5a3a",
   "metadata": {},
   "outputs": [
    {
     "data": {
      "text/html": [
       "<div>\n",
       "<style scoped>\n",
       "    .dataframe tbody tr th:only-of-type {\n",
       "        vertical-align: middle;\n",
       "    }\n",
       "\n",
       "    .dataframe tbody tr th {\n",
       "        vertical-align: top;\n",
       "    }\n",
       "\n",
       "    .dataframe thead th {\n",
       "        text-align: right;\n",
       "    }\n",
       "</style>\n",
       "<table border=\"1\" class=\"dataframe\">\n",
       "  <thead>\n",
       "    <tr style=\"text-align: right;\">\n",
       "      <th></th>\n",
       "      <th>bedrooms</th>\n",
       "      <th>bathrooms</th>\n",
       "      <th>area</th>\n",
       "      <th>tax_value</th>\n",
       "      <th>year_built</th>\n",
       "      <th>taxamount</th>\n",
       "      <th>fips</th>\n",
       "    </tr>\n",
       "  </thead>\n",
       "  <tbody>\n",
       "    <tr>\n",
       "      <th>11</th>\n",
       "      <td>0</td>\n",
       "      <td>0.0</td>\n",
       "      <td>1200.0</td>\n",
       "      <td>5328.0</td>\n",
       "      <td>1972</td>\n",
       "      <td>91.60</td>\n",
       "      <td>6037</td>\n",
       "    </tr>\n",
       "    <tr>\n",
       "      <th>14</th>\n",
       "      <td>0</td>\n",
       "      <td>0.0</td>\n",
       "      <td>171.0</td>\n",
       "      <td>6920.0</td>\n",
       "      <td>1973</td>\n",
       "      <td>255.17</td>\n",
       "      <td>6037</td>\n",
       "    </tr>\n",
       "    <tr>\n",
       "      <th>15</th>\n",
       "      <td>0</td>\n",
       "      <td>0.0</td>\n",
       "      <td>203.0</td>\n",
       "      <td>14166.0</td>\n",
       "      <td>1960</td>\n",
       "      <td>163.79</td>\n",
       "      <td>6037</td>\n",
       "    </tr>\n",
       "    <tr>\n",
       "      <th>398</th>\n",
       "      <td>3</td>\n",
       "      <td>0.0</td>\n",
       "      <td>2239.0</td>\n",
       "      <td>396608.0</td>\n",
       "      <td>1988</td>\n",
       "      <td>4404.22</td>\n",
       "      <td>6111</td>\n",
       "    </tr>\n",
       "    <tr>\n",
       "      <th>753</th>\n",
       "      <td>3</td>\n",
       "      <td>0.0</td>\n",
       "      <td>2421.0</td>\n",
       "      <td>1111120.0</td>\n",
       "      <td>1976</td>\n",
       "      <td>12394.16</td>\n",
       "      <td>6111</td>\n",
       "    </tr>\n",
       "    <tr>\n",
       "      <th>...</th>\n",
       "      <td>...</td>\n",
       "      <td>...</td>\n",
       "      <td>...</td>\n",
       "      <td>...</td>\n",
       "      <td>...</td>\n",
       "      <td>...</td>\n",
       "      <td>...</td>\n",
       "    </tr>\n",
       "    <tr>\n",
       "      <th>2149054</th>\n",
       "      <td>0</td>\n",
       "      <td>0.0</td>\n",
       "      <td>938.0</td>\n",
       "      <td>56733.0</td>\n",
       "      <td>1978</td>\n",
       "      <td>986.86</td>\n",
       "      <td>6037</td>\n",
       "    </tr>\n",
       "    <tr>\n",
       "      <th>2151453</th>\n",
       "      <td>2</td>\n",
       "      <td>0.0</td>\n",
       "      <td>1108.0</td>\n",
       "      <td>937075.0</td>\n",
       "      <td>1932</td>\n",
       "      <td>10851.50</td>\n",
       "      <td>6059</td>\n",
       "    </tr>\n",
       "    <tr>\n",
       "      <th>2152505</th>\n",
       "      <td>0</td>\n",
       "      <td>0.0</td>\n",
       "      <td>240.0</td>\n",
       "      <td>31234.0</td>\n",
       "      <td>1942</td>\n",
       "      <td>414.04</td>\n",
       "      <td>6037</td>\n",
       "    </tr>\n",
       "    <tr>\n",
       "      <th>2152704</th>\n",
       "      <td>0</td>\n",
       "      <td>1.0</td>\n",
       "      <td>1490.0</td>\n",
       "      <td>152000.0</td>\n",
       "      <td>1930</td>\n",
       "      <td>3614.40</td>\n",
       "      <td>6037</td>\n",
       "    </tr>\n",
       "    <tr>\n",
       "      <th>2152710</th>\n",
       "      <td>0</td>\n",
       "      <td>2.0</td>\n",
       "      <td>2140.0</td>\n",
       "      <td>338004.0</td>\n",
       "      <td>1928</td>\n",
       "      <td>4406.28</td>\n",
       "      <td>6037</td>\n",
       "    </tr>\n",
       "  </tbody>\n",
       "</table>\n",
       "<p>5326 rows × 7 columns</p>\n",
       "</div>"
      ],
      "text/plain": [
       "         bedrooms  bathrooms    area  tax_value  year_built  taxamount  fips\n",
       "11              0        0.0  1200.0     5328.0        1972      91.60  6037\n",
       "14              0        0.0   171.0     6920.0        1973     255.17  6037\n",
       "15              0        0.0   203.0    14166.0        1960     163.79  6037\n",
       "398             3        0.0  2239.0   396608.0        1988    4404.22  6111\n",
       "753             3        0.0  2421.0  1111120.0        1976   12394.16  6111\n",
       "...           ...        ...     ...        ...         ...        ...   ...\n",
       "2149054         0        0.0   938.0    56733.0        1978     986.86  6037\n",
       "2151453         2        0.0  1108.0   937075.0        1932   10851.50  6059\n",
       "2152505         0        0.0   240.0    31234.0        1942     414.04  6037\n",
       "2152704         0        1.0  1490.0   152000.0        1930    3614.40  6037\n",
       "2152710         0        2.0  2140.0   338004.0        1928    4406.28  6037\n",
       "\n",
       "[5326 rows x 7 columns]"
      ]
     },
     "execution_count": 16,
     "metadata": {},
     "output_type": "execute_result"
    }
   ],
   "source": [
    "# Somthing caught my eye. Are any of the categories zero? So they passed the null test but still have no value?\n",
    "zillow[(zillow.bathrooms == 0) | (zillow.bedrooms == 0) | (zillow.area == 0)]"
   ]
  },
  {
   "cell_type": "code",
   "execution_count": 17,
   "id": "839b5880",
   "metadata": {},
   "outputs": [
    {
     "data": {
      "text/plain": [
       "<bound method IndexOpsMixin.value_counts of 4          4\n",
       "6          3\n",
       "7          3\n",
       "11         0\n",
       "14         0\n",
       "          ..\n",
       "2152856    4\n",
       "2152858    4\n",
       "2152859    4\n",
       "2152861    3\n",
       "2152862    4\n",
       "Name: bedrooms, Length: 2140235, dtype: int64>"
      ]
     },
     "execution_count": 17,
     "metadata": {},
     "output_type": "execute_result"
    }
   ],
   "source": [
    "zillow.bedrooms.value_counts"
   ]
  },
  {
   "cell_type": "markdown",
   "id": "a01945c4",
   "metadata": {},
   "source": [
    "#### That's another 5326 rows of data with zeros where there should be numbers. \n",
    "Could this represent a vacant lot that hasn't been built yet? It seems that there is a separate category for this in the database called \"Vacant Land - General\".\n",
    "\n",
    "- (5,326 / 2,152,863) that's less than 1% of our original data.\n",
    "- If I drop these 5326 plus the rows with nulls, I will still have only loss approx 1% of my data. Since this shouldn't be enough to affect my data, I shall proceed."
   ]
  },
  {
   "cell_type": "code",
   "execution_count": 18,
   "id": "32ae27a2",
   "metadata": {},
   "outputs": [
    {
     "name": "stdout",
     "output_type": "stream",
     "text": [
      "(2140235, 7)\n",
      "(2136890, 7)\n"
     ]
    }
   ],
   "source": [
    "print(zillow.shape)\n",
    "zillow = zillow[(zillow.bathrooms != 0) | (zillow.bedrooms != 0)]\n",
    "print(zillow.shape)"
   ]
  },
  {
   "cell_type": "code",
   "execution_count": 19,
   "id": "abb707e8",
   "metadata": {},
   "outputs": [],
   "source": [
    "# We learned about outliers so I'm just gonna check and see if any data gets dropped for being considered an outlier\n",
    "def remove_outliers(df, k, col_list):\n",
    "    ''' remove outliers from a list of columns in a dataframe \n",
    "        and return that dataframe\n",
    "    '''\n",
    "    \n",
    "    for col in col_list:\n",
    "\n",
    "        q1, q3 = df[col].quantile([.25, .75])  # get quartiles\n",
    "        \n",
    "        iqr = q3 - q1   # calculate interquartile range\n",
    "        \n",
    "        upper_bound = q3 + k * iqr   # get upper bound\n",
    "        lower_bound = q1 - k * iqr   # get lower bound\n",
    "\n",
    "        # return dataframe without outliers\n",
    "        \n",
    "        df = df[(df[col] > lower_bound) & (df[col] < upper_bound)]\n",
    "        \n",
    "    return df"
   ]
  },
  {
   "cell_type": "code",
   "execution_count": 20,
   "id": "71c2d3fb",
   "metadata": {},
   "outputs": [
    {
     "data": {
      "text/html": [
       "<div>\n",
       "<style scoped>\n",
       "    .dataframe tbody tr th:only-of-type {\n",
       "        vertical-align: middle;\n",
       "    }\n",
       "\n",
       "    .dataframe tbody tr th {\n",
       "        vertical-align: top;\n",
       "    }\n",
       "\n",
       "    .dataframe thead th {\n",
       "        text-align: right;\n",
       "    }\n",
       "</style>\n",
       "<table border=\"1\" class=\"dataframe\">\n",
       "  <thead>\n",
       "    <tr style=\"text-align: right;\">\n",
       "      <th></th>\n",
       "      <th>bedrooms</th>\n",
       "      <th>bathrooms</th>\n",
       "      <th>area</th>\n",
       "      <th>tax_value</th>\n",
       "      <th>year_built</th>\n",
       "      <th>taxamount</th>\n",
       "      <th>fips</th>\n",
       "    </tr>\n",
       "  </thead>\n",
       "  <tbody>\n",
       "    <tr>\n",
       "      <th>4</th>\n",
       "      <td>4</td>\n",
       "      <td>2.0</td>\n",
       "      <td>3633.0</td>\n",
       "      <td>296425.0</td>\n",
       "      <td>2005</td>\n",
       "      <td>6941.39</td>\n",
       "      <td>6037</td>\n",
       "    </tr>\n",
       "    <tr>\n",
       "      <th>6</th>\n",
       "      <td>3</td>\n",
       "      <td>4.0</td>\n",
       "      <td>1620.0</td>\n",
       "      <td>847770.0</td>\n",
       "      <td>2011</td>\n",
       "      <td>10244.94</td>\n",
       "      <td>6037</td>\n",
       "    </tr>\n",
       "    <tr>\n",
       "      <th>7</th>\n",
       "      <td>3</td>\n",
       "      <td>2.0</td>\n",
       "      <td>2077.0</td>\n",
       "      <td>646760.0</td>\n",
       "      <td>1926</td>\n",
       "      <td>7924.68</td>\n",
       "      <td>6037</td>\n",
       "    </tr>\n",
       "    <tr>\n",
       "      <th>18</th>\n",
       "      <td>3</td>\n",
       "      <td>1.0</td>\n",
       "      <td>1244.0</td>\n",
       "      <td>169471.0</td>\n",
       "      <td>1950</td>\n",
       "      <td>2532.88</td>\n",
       "      <td>6037</td>\n",
       "    </tr>\n",
       "    <tr>\n",
       "      <th>19</th>\n",
       "      <td>3</td>\n",
       "      <td>2.0</td>\n",
       "      <td>1300.0</td>\n",
       "      <td>233266.0</td>\n",
       "      <td>1950</td>\n",
       "      <td>3110.99</td>\n",
       "      <td>6037</td>\n",
       "    </tr>\n",
       "  </tbody>\n",
       "</table>\n",
       "</div>"
      ],
      "text/plain": [
       "    bedrooms  bathrooms    area  tax_value  year_built  taxamount  fips\n",
       "4          4        2.0  3633.0   296425.0        2005    6941.39  6037\n",
       "6          3        4.0  1620.0   847770.0        2011   10244.94  6037\n",
       "7          3        2.0  2077.0   646760.0        1926    7924.68  6037\n",
       "18         3        1.0  1244.0   169471.0        1950    2532.88  6037\n",
       "19         3        2.0  1300.0   233266.0        1950    3110.99  6037"
      ]
     },
     "execution_count": 20,
     "metadata": {},
     "output_type": "execute_result"
    }
   ],
   "source": [
    "zillow.head()"
   ]
  },
  {
   "cell_type": "code",
   "execution_count": 21,
   "id": "3c8938c6",
   "metadata": {},
   "outputs": [
    {
     "data": {
      "text/plain": [
       "282604"
      ]
     },
     "execution_count": 21,
     "metadata": {},
     "output_type": "execute_result"
    }
   ],
   "source": [
    "z = remove_outliers(zillow, 1.5, ['bedrooms', \n",
    "                                  'bathrooms', \n",
    "                                  'area', \n",
    "                                  'tax_value', \n",
    "                                  'taxamount'])\n",
    "\n",
    "# Removing these outliers would remove 282,604 rows of data\n",
    "zillow.shape[0] - z.shape[0]"
   ]
  },
  {
   "cell_type": "code",
   "execution_count": 22,
   "id": "35e4e3ac",
   "metadata": {},
   "outputs": [
    {
     "data": {
      "image/png": "[encoded data removed]",
      "text/plain": [
       "<Figure size 432x288 with 1 Axes>"
      ]
     },
     "metadata": {
      "needs_background": "light"
     },
     "output_type": "display_data"
    },
    {
     "data": {
      "image/png": "[encoded data removed]",
      "text/plain": [
       "<Figure size 432x288 with 1 Axes>"
      ]
     },
     "metadata": {
      "needs_background": "light"
     },
     "output_type": "display_data"
    },
    {
     "data": {
      "image/png": "[encoded data removed]",
      "text/plain": [
       "<Figure size 432x288 with 1 Axes>"
      ]
     },
     "metadata": {
      "needs_background": "light"
     },
     "output_type": "display_data"
    },
    {
     "data": {
      "image/png": "[encoded data removed]",
      "text/plain": [
       "<Figure size 432x288 with 1 Axes>"
      ]
     },
     "metadata": {
      "needs_background": "light"
     },
     "output_type": "display_data"
    },
    {
     "data": {
      "image/png": "[encoded data removed]",
      "text/plain": [
       "<Figure size 432x288 with 1 Axes>"
      ]
     },
     "metadata": {
      "needs_background": "light"
     },
     "output_type": "display_data"
    },
    {
     "data": {
      "image/png": "[encoded data removed]",
      "text/plain": [
       "<Figure size 432x288 with 1 Axes>"
      ]
     },
     "metadata": {
      "needs_background": "light"
     },
     "output_type": "display_data"
    },
    {
     "data": {
      "image/png": "[encoded data removed]",
      "text/plain": [
       "<Figure size 432x288 with 1 Axes>"
      ]
     },
     "metadata": {
      "needs_background": "light"
     },
     "output_type": "display_data"
    }
   ],
   "source": [
    "# Create boxplots for each column\n",
    "columns = zillow.columns\n",
    "\n",
    "for x in columns:\n",
    "    sns.boxplot(data= zillow, y = x)\n",
    "    plt.title('')\n",
    "\n",
    "    plt.show()"
   ]
  },
  {
   "cell_type": "code",
   "execution_count": 23,
   "id": "9a097304",
   "metadata": {},
   "outputs": [
    {
     "data": {
      "image/png": "[encoded data removed]",
      "text/plain": [
       "<Figure size 432x288 with 1 Axes>"
      ]
     },
     "metadata": {
      "needs_background": "light"
     },
     "output_type": "display_data"
    },
    {
     "data": {
      "image/png": "[encoded data removed]",
      "text/plain": [
       "<Figure size 432x288 with 1 Axes>"
      ]
     },
     "metadata": {
      "needs_background": "light"
     },
     "output_type": "display_data"
    },
    {
     "data": {
      "image/png": "[encoded data removed]",
      "text/plain": [
       "<Figure size 432x288 with 1 Axes>"
      ]
     },
     "metadata": {
      "needs_background": "light"
     },
     "output_type": "display_data"
    },
    {
     "data": {
      "image/png": "[encoded data removed]",
      "text/plain": [
       "<Figure size 432x288 with 1 Axes>"
      ]
     },
     "metadata": {
      "needs_background": "light"
     },
     "output_type": "display_data"
    },
    {
     "data": {
      "image/png": "[encoded data removed]",
      "text/plain": [
       "<Figure size 432x288 with 1 Axes>"
      ]
     },
     "metadata": {
      "needs_background": "light"
     },
     "output_type": "display_data"
    },
    {
     "data": {
      "image/png": "[encoded data removed]",
      "text/plain": [
       "<Figure size 432x288 with 1 Axes>"
      ]
     },
     "metadata": {
      "needs_background": "light"
     },
     "output_type": "display_data"
    },
    {
     "data": {
      "image/png": "[encoded data removed]",
      "text/plain": [
       "<Figure size 432x288 with 1 Axes>"
      ]
     },
     "metadata": {
      "needs_background": "light"
     },
     "output_type": "display_data"
    }
   ],
   "source": [
    "# Create boxplots for each column\n",
    "columns = zillow.columns\n",
    "\n",
    "for x in columns:\n",
    "    sns.boxplot(data= z, y = x)\n",
    "    plt.title('')\n",
    "\n",
    "    plt.show()"
   ]
  },
  {
   "cell_type": "code",
   "execution_count": 24,
   "id": "3ba0c2ec",
   "metadata": {},
   "outputs": [
    {
     "data": {
      "text/plain": [
       "453958"
      ]
     },
     "execution_count": 24,
     "metadata": {},
     "output_type": "execute_result"
    }
   ],
   "source": [
    "zw = remove_outliers(z, 1.5, [    'bedrooms', \n",
    "                                  'bathrooms', \n",
    "                                  'area', \n",
    "                                  'tax_value', \n",
    "                                  'taxamount'])\n",
    "\n",
    "# Removing these outliers would remove another 453,958 rows of data\n",
    "z.shape[0] - zw.shape[0]"
   ]
  },
  {
   "cell_type": "code",
   "execution_count": 25,
   "id": "b16150fe",
   "metadata": {},
   "outputs": [
    {
     "data": {
      "image/png": "[encoded data removed]",
      "text/plain": [
       "<Figure size 432x288 with 1 Axes>"
      ]
     },
     "metadata": {
      "needs_background": "light"
     },
     "output_type": "display_data"
    },
    {
     "data": {
      "image/png": "[encoded data removed]",
      "text/plain": [
       "<Figure size 432x288 with 1 Axes>"
      ]
     },
     "metadata": {
      "needs_background": "light"
     },
     "output_type": "display_data"
    },
    {
     "data": {
      "image/png": "[encoded data removed]",
      "text/plain": [
       "<Figure size 432x288 with 1 Axes>"
      ]
     },
     "metadata": {
      "needs_background": "light"
     },
     "output_type": "display_data"
    },
    {
     "data": {
      "image/png": "[encoded data removed]",
      "text/plain": [
       "<Figure size 432x288 with 1 Axes>"
      ]
     },
     "metadata": {
      "needs_background": "light"
     },
     "output_type": "display_data"
    },
    {
     "data": {
      "image/png": "[encoded data removed]",
      "text/plain": [
       "<Figure size 432x288 with 1 Axes>"
      ]
     },
     "metadata": {
      "needs_background": "light"
     },
     "output_type": "display_data"
    },
    {
     "data": {
      "image/png": "[encoded data removed]",
      "text/plain": [
       "<Figure size 432x288 with 1 Axes>"
      ]
     },
     "metadata": {
      "needs_background": "light"
     },
     "output_type": "display_data"
    },
    {
     "data": {
      "image/png": "[encoded data removed]",
      "text/plain": [
       "<Figure size 432x288 with 1 Axes>"
      ]
     },
     "metadata": {
      "needs_background": "light"
     },
     "output_type": "display_data"
    }
   ],
   "source": [
    "# Create boxplots for each column\n",
    "columns = zillow.columns\n",
    "\n",
    "for x in columns:\n",
    "    sns.boxplot(data= zw, y = x)\n",
    "    plt.title('')\n",
    "\n",
    "    plt.show()"
   ]
  },
  {
   "cell_type": "markdown",
   "id": "4142a1a3",
   "metadata": {},
   "source": [
    "### The removal of outliers is not a formula, but human resoning of what's reasonable to keep. Most Single Family Homes on zillow are probably being looked at by people who buy normal sized houses (not  24 bedroom mansions). Also, depending on location, I can limit my price range to people who would actually use zillow. (Kim Kardashian isn't looking for her next multi-million dollar house on Zillow)."
   ]
  },
  {
   "cell_type": "code",
   "execution_count": 26,
   "id": "b7ced9c9",
   "metadata": {},
   "outputs": [],
   "source": [
    "# make a note of where most of the fips are"
   ]
  },
  {
   "cell_type": "code",
   "execution_count": 27,
   "id": "58b0052f",
   "metadata": {},
   "outputs": [],
   "source": [
    "# The instructor showed us his renamed coumns and i dig it. I'm gonna add it to my acquire step\n",
    "\n",
    "# Renaming column names to one's I like better\n",
    "zillow = zillow.rename(columns = {'bedroomcnt':'bedrooms', \n",
    "                          'bathroomcnt':'bathrooms', \n",
    "                          'calculatedfinishedsquarefeet':'area',\n",
    "                          'taxvaluedollarcnt':'tax_value', \n",
    "                          'yearbuilt':'year_built',})"
   ]
  },
  {
   "cell_type": "markdown",
   "id": "b1663957",
   "metadata": {},
   "source": [
    "#### I can't think of anything else to clean up, so I think I'm good to combine all this into a function!"
   ]
  },
  {
   "cell_type": "markdown",
   "id": "148d2a71",
   "metadata": {},
   "source": [
    "3. Store all of the necessary functions to automate your process from acquiring the data to returning a cleaned dataframe witn no missing values in your wrangle.py file. Name your final function wrangle_zillow.\n"
   ]
  },
  {
   "cell_type": "code",
   "execution_count": 28,
   "id": "98a35022",
   "metadata": {},
   "outputs": [],
   "source": [
    "def remove_outliers(df, k, col_list):\n",
    "    ''' remove outliers from a list of columns in a dataframe \n",
    "        and return that dataframe\n",
    "    '''\n",
    "    \n",
    "    for col in col_list:\n",
    "\n",
    "        q1, q3 = df[col].quantile([.25, .75])  # get quartiles\n",
    "        \n",
    "        iqr = q3 - q1   # calculate interquartile range\n",
    "        \n",
    "        upper_bound = q3 + k * iqr   # get upper bound\n",
    "        lower_bound = q1 - k * iqr   # get lower bound\n",
    "\n",
    "        # return dataframe without outliers\n",
    "        \n",
    "        df = df[(df[col] > lower_bound) & (df[col] < upper_bound)]\n",
    "        \n",
    "    return df\n",
    "\n",
    "def prepare_zillow (zillow):\n",
    "    # Remove extreme outliers (there will still be a few, but our data should be less skewed)\n",
    "    zillow = remove_outliers(zillow, 1.5, ['bedrooms', 'bathrooms', 'area', 'tax_value', 'taxamount'])\n",
    "    \n",
    "    # Drop all data with nulls and zeros. This about 1.06% of the data, so shouldn't affect modeling\n",
    "    zillow = zillow.dropna()\n",
    "    zillow = zillow[(zillow.bathrooms != 0) | (zillow.bedrooms != 0)]\n",
    "    \n",
    "    # Change the data types of these columns to int\n",
    "    zillow[\"year_built\"] = zillow.year_built.astype(int)\n",
    "    zillow[\"fips\"] = zillow.fips.astype(int)\n",
    "    zillow[\"bedrooms\"] = zillow.bedrooms.astype(int)\n",
    "    \n",
    "    return zillow\n",
    "\n",
    "def wrangle_zillow():\n",
    "    '''Acquire and prepare data from Zillow database for explore'''\n",
    "    # Acquire and Prep\n",
    "    zillow = prepare_zillow(get_zillow_data())\n",
    "    \n",
    "    # Split\n",
    "    train_validate, test = train_test_split(zillow, test_size=.2, random_state= 42)\n",
    "    train, validate = train_test_split(train_validate, test_size=.3, random_state= 42)\n",
    "    \n",
    "    return train, validate, test"
   ]
  },
  {
   "cell_type": "code",
   "execution_count": 29,
   "id": "b822360c",
   "metadata": {},
   "outputs": [
    {
     "data": {
      "text/html": [
       "<div>\n",
       "<style scoped>\n",
       "    .dataframe tbody tr th:only-of-type {\n",
       "        vertical-align: middle;\n",
       "    }\n",
       "\n",
       "    .dataframe tbody tr th {\n",
       "        vertical-align: top;\n",
       "    }\n",
       "\n",
       "    .dataframe thead th {\n",
       "        text-align: right;\n",
       "    }\n",
       "</style>\n",
       "<table border=\"1\" class=\"dataframe\">\n",
       "  <thead>\n",
       "    <tr style=\"text-align: right;\">\n",
       "      <th></th>\n",
       "      <th>bedrooms</th>\n",
       "      <th>bathrooms</th>\n",
       "      <th>area</th>\n",
       "      <th>tax_value</th>\n",
       "      <th>year_built</th>\n",
       "      <th>taxamount</th>\n",
       "      <th>fips</th>\n",
       "    </tr>\n",
       "  </thead>\n",
       "  <tbody>\n",
       "    <tr>\n",
       "      <th>1901200</th>\n",
       "      <td>2</td>\n",
       "      <td>2.0</td>\n",
       "      <td>1205.0</td>\n",
       "      <td>354670.0</td>\n",
       "      <td>1941</td>\n",
       "      <td>4395.55</td>\n",
       "      <td>6037</td>\n",
       "    </tr>\n",
       "    <tr>\n",
       "      <th>1786912</th>\n",
       "      <td>5</td>\n",
       "      <td>2.0</td>\n",
       "      <td>1586.0</td>\n",
       "      <td>192000.0</td>\n",
       "      <td>2004</td>\n",
       "      <td>3114.34</td>\n",
       "      <td>6037</td>\n",
       "    </tr>\n",
       "    <tr>\n",
       "      <th>930919</th>\n",
       "      <td>2</td>\n",
       "      <td>1.0</td>\n",
       "      <td>860.0</td>\n",
       "      <td>212332.0</td>\n",
       "      <td>1952</td>\n",
       "      <td>2692.90</td>\n",
       "      <td>6037</td>\n",
       "    </tr>\n",
       "    <tr>\n",
       "      <th>1805072</th>\n",
       "      <td>2</td>\n",
       "      <td>1.0</td>\n",
       "      <td>1125.0</td>\n",
       "      <td>628500.0</td>\n",
       "      <td>1948</td>\n",
       "      <td>8168.31</td>\n",
       "      <td>6037</td>\n",
       "    </tr>\n",
       "    <tr>\n",
       "      <th>1775847</th>\n",
       "      <td>3</td>\n",
       "      <td>2.5</td>\n",
       "      <td>1731.0</td>\n",
       "      <td>532000.0</td>\n",
       "      <td>2002</td>\n",
       "      <td>5724.10</td>\n",
       "      <td>6111</td>\n",
       "    </tr>\n",
       "  </tbody>\n",
       "</table>\n",
       "</div>"
      ],
      "text/plain": [
       "         bedrooms  bathrooms    area  tax_value  year_built  taxamount  fips\n",
       "1901200         2        2.0  1205.0   354670.0        1941    4395.55  6037\n",
       "1786912         5        2.0  1586.0   192000.0        2004    3114.34  6037\n",
       "930919          2        1.0   860.0   212332.0        1952    2692.90  6037\n",
       "1805072         2        1.0  1125.0   628500.0        1948    8168.31  6037\n",
       "1775847         3        2.5  1731.0   532000.0        2002    5724.10  6111"
      ]
     },
     "execution_count": 29,
     "metadata": {},
     "output_type": "execute_result"
    }
   ],
   "source": [
    "train, validate, test = wrangle_zillow()\n",
    "train.head()"
   ]
  },
  {
   "cell_type": "code",
   "execution_count": 30,
   "id": "5598b014",
   "metadata": {},
   "outputs": [
    {
     "data": {
      "text/html": [
       "<div>\n",
       "<style scoped>\n",
       "    .dataframe tbody tr th:only-of-type {\n",
       "        vertical-align: middle;\n",
       "    }\n",
       "\n",
       "    .dataframe tbody tr th {\n",
       "        vertical-align: top;\n",
       "    }\n",
       "\n",
       "    .dataframe thead th {\n",
       "        text-align: right;\n",
       "    }\n",
       "</style>\n",
       "<table border=\"1\" class=\"dataframe\">\n",
       "  <thead>\n",
       "    <tr style=\"text-align: right;\">\n",
       "      <th></th>\n",
       "      <th>bedrooms</th>\n",
       "      <th>bathrooms</th>\n",
       "      <th>area</th>\n",
       "      <th>tax_value</th>\n",
       "      <th>year_built</th>\n",
       "      <th>taxamount</th>\n",
       "      <th>fips</th>\n",
       "    </tr>\n",
       "  </thead>\n",
       "  <tbody>\n",
       "    <tr>\n",
       "      <th>1901200</th>\n",
       "      <td>2</td>\n",
       "      <td>2.0</td>\n",
       "      <td>1205.0</td>\n",
       "      <td>354670.0</td>\n",
       "      <td>1941</td>\n",
       "      <td>4395.55</td>\n",
       "      <td>6037</td>\n",
       "    </tr>\n",
       "    <tr>\n",
       "      <th>1786912</th>\n",
       "      <td>5</td>\n",
       "      <td>2.0</td>\n",
       "      <td>1586.0</td>\n",
       "      <td>192000.0</td>\n",
       "      <td>2004</td>\n",
       "      <td>3114.34</td>\n",
       "      <td>6037</td>\n",
       "    </tr>\n",
       "    <tr>\n",
       "      <th>930919</th>\n",
       "      <td>2</td>\n",
       "      <td>1.0</td>\n",
       "      <td>860.0</td>\n",
       "      <td>212332.0</td>\n",
       "      <td>1952</td>\n",
       "      <td>2692.90</td>\n",
       "      <td>6037</td>\n",
       "    </tr>\n",
       "    <tr>\n",
       "      <th>1805072</th>\n",
       "      <td>2</td>\n",
       "      <td>1.0</td>\n",
       "      <td>1125.0</td>\n",
       "      <td>628500.0</td>\n",
       "      <td>1948</td>\n",
       "      <td>8168.31</td>\n",
       "      <td>6037</td>\n",
       "    </tr>\n",
       "    <tr>\n",
       "      <th>1775847</th>\n",
       "      <td>3</td>\n",
       "      <td>2.5</td>\n",
       "      <td>1731.0</td>\n",
       "      <td>532000.0</td>\n",
       "      <td>2002</td>\n",
       "      <td>5724.10</td>\n",
       "      <td>6111</td>\n",
       "    </tr>\n",
       "  </tbody>\n",
       "</table>\n",
       "</div>"
      ],
      "text/plain": [
       "         bedrooms  bathrooms    area  tax_value  year_built  taxamount  fips\n",
       "1901200         2        2.0  1205.0   354670.0        1941    4395.55  6037\n",
       "1786912         5        2.0  1586.0   192000.0        2004    3114.34  6037\n",
       "930919          2        1.0   860.0   212332.0        1952    2692.90  6037\n",
       "1805072         2        1.0  1125.0   628500.0        1948    8168.31  6037\n",
       "1775847         3        2.5  1731.0   532000.0        2002    5724.10  6111"
      ]
     },
     "execution_count": 30,
     "metadata": {},
     "output_type": "execute_result"
    }
   ],
   "source": [
    "train, validate, test = wrangle.wrangle_zillow()\n",
    "train.head()"
   ]
  },
  {
   "cell_type": "code",
   "execution_count": null,
   "id": "4b921d85",
   "metadata": {},
   "outputs": [],
   "source": []
  }
 ],
 "metadata": {
  "kernelspec": {
   "display_name": "Python 3",
   "language": "python",
   "name": "python3"
  },
  "language_info": {
   "codemirror_mode": {
    "name": "ipython",
    "version": 3
   },
   "file_extension": ".py",
   "mimetype": "text/x-python",
   "name": "python",
   "nbconvert_exporter": "python",
   "pygments_lexer": "ipython3",
   "version": "3.8.8"
  }
 },
 "nbformat": 4,
 "nbformat_minor": 5
}
